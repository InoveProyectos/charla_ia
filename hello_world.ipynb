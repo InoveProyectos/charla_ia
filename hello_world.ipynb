{
  "nbformat": 4,
  "nbformat_minor": 0,
  "metadata": {
    "colab": {
      "name": "hello_world.ipynb",
      "provenance": [],
      "collapsed_sections": []
    },
    "kernelspec": {
      "name": "python3",
      "display_name": "Python 3"
    }
  },
  "cells": [
    {
      "cell_type": "markdown",
      "metadata": {
        "id": "sBRDyHtd0HFb",
        "colab_type": "text"
      },
      "source": [
        "<a href=\"https://www.inove.com.ar\"><img src=\"https://github.com/InoveProyectos/charla_git/raw/master/inove.jpg\" width=\"1000\" align=\"center\"></a>\n",
        "<h1><center>Hello world!</center></h1>\n",
        "<h4>Sobre este ejemplo</h4>\n",
        "En este ejemplo se ejemplifica como resolver cuanto vale el valor de las propiedades de una determinada zona utilizando machine linearning."
      ]
    },
    {
      "cell_type": "code",
      "metadata": {
        "id": "hckP1HKyvbph",
        "colab_type": "code",
        "colab": {
          "base_uri": "https://localhost:8080/",
          "height": 118
        },
        "outputId": "982a8452-d0dc-4e33-f92b-6f624c9a0fe0"
      },
      "source": [
        "import shutil\n",
        "try:\n",
        "  f = open(\"/content/gibioplot/gibioplot.py\")\n",
        "except:\n",
        "  !git clone https://github.com/HectorInove/gibioplot.git\n",
        "try:\n",
        "  shutil.copy(\"/content/gibioplot/gibioplot.py\", \"/content/gibioplot.py\")\n",
        "except:\n",
        "  pass"
      ],
      "execution_count": null,
      "outputs": [
        {
          "output_type": "stream",
          "text": [
            "Cloning into 'gibioplot'...\n",
            "remote: Enumerating objects: 6, done.\u001b[K\n",
            "remote: Counting objects: 100% (6/6), done.\u001b[K\n",
            "remote: Compressing objects: 100% (4/4), done.\u001b[K\n",
            "remote: Total 6 (delta 0), reused 0 (delta 0), pack-reused 0\u001b[K\n",
            "Unpacking objects: 100% (6/6), done.\n"
          ],
          "name": "stdout"
        }
      ]
    },
    {
      "cell_type": "code",
      "metadata": {
        "id": "_bfqiMR02qeg",
        "colab_type": "code",
        "colab": {
          "base_uri": "https://localhost:8080/",
          "height": 70
        },
        "outputId": "56d2a8fc-d1f8-4ed2-c859-89b539923357"
      },
      "source": [
        "import numpy as np\n",
        "import matplotlib as mpl\n",
        "import matplotlib.pyplot as plt\n",
        "import pandas as pd\n",
        "import seaborn as sns\n",
        "import plotly.graph_objects as go\n",
        "import plotly.express as px\n",
        "import gibioplot\n",
        "from sklearn import linear_model\n",
        "\n",
        "%matplotlib inline"
      ],
      "execution_count": null,
      "outputs": [
        {
          "output_type": "stream",
          "text": [
            "/usr/local/lib/python3.6/dist-packages/statsmodels/tools/_testing.py:19: FutureWarning: pandas.util.testing is deprecated. Use the functions in the public API at pandas.testing instead.\n",
            "  import pandas.util.testing as tm\n"
          ],
          "name": "stderr"
        }
      ]
    },
    {
      "cell_type": "markdown",
      "metadata": {
        "colab_type": "text",
        "id": "IaFL8vvRt4E2"
      },
      "source": [
        "# Recolectar datos"
      ]
    },
    {
      "cell_type": "markdown",
      "metadata": {
        "id": "whB9KdhZdI2g",
        "colab_type": "text"
      },
      "source": [
        "<center><img src=\"https://lh3.googleusercontent.com/pw/ACtC-3dp4dMGFr2D00UyD0240fBNyrzptD5onOf1wkHioTvEo-RpDmNEP61ssGPS4IiSKtDEwUHaU8krqeFZi3mjkiQDE72dtJy9zxptu48TYzfnbQp-O1WFZ0LFaXDG-jIz01IQyw2fZJzEFhnk_zK-glgP=w1366-h133-no?authuser=0\" width=\"1000\" align=\"center\"></center>\n",
        "Descargamos el dataset de alquiler de departamentos"
      ]
    },
    {
      "cell_type": "code",
      "metadata": {
        "id": "_C6WfGlt06Jp",
        "colab_type": "code",
        "colab": {
          "base_uri": "https://localhost:8080/",
          "height": 202
        },
        "outputId": "321ea1ba-077d-4a38-bb49-5db2a4d33cb5"
      },
      "source": [
        "#!wget -O propiedades.csv http://inove.pythonanywhere.com/alquileres/buscar?ubicacion=Mendoza\n",
        "!wget -O propiedades.csv http://inove.pythonanywhere.com/alquileres/buscar?ubicacion=Capital%20Federal"
      ],
      "execution_count": null,
      "outputs": [
        {
          "output_type": "stream",
          "text": [
            "--2020-09-24 15:39:15--  http://inove.pythonanywhere.com/alquileres/buscar?ubicacion=Capital%20Federal\n",
            "Resolving inove.pythonanywhere.com (inove.pythonanywhere.com)... 35.173.69.207\n",
            "Connecting to inove.pythonanywhere.com (inove.pythonanywhere.com)|35.173.69.207|:80... connected.\n",
            "HTTP request sent, awaiting response... 200 OK\n",
            "Length: 110873 (108K) [text/csv]\n",
            "Saving to: ‘propiedades.csv’\n",
            "\n",
            "propiedades.csv     100%[===================>] 108.27K   423KB/s    in 0.3s    \n",
            "\n",
            "2020-09-24 15:39:29 (423 KB/s) - ‘propiedades.csv’ saved [110873/110873]\n",
            "\n"
          ],
          "name": "stdout"
        }
      ]
    },
    {
      "cell_type": "markdown",
      "metadata": {
        "colab_type": "text",
        "id": "kClARSPht0yw"
      },
      "source": [
        "# Procesar datos"
      ]
    },
    {
      "cell_type": "markdown",
      "metadata": {
        "colab_type": "text",
        "id": "wMIjKep9eFTA"
      },
      "source": [
        "<center><img src=\"https://lh3.googleusercontent.com/pw/ACtC-3ecH_bbd3CY23v8dqfIsuoE1FT7dDeRqxlG4Ti4RzKkOqAHMTD8ukvX7wx_G2PkKFQjNeoGGtL3xoqhCqfKCSdk1lE_2FuTiQaV2jDy3_fZeVbBxgEhtVwGnoLhBfQyb36KZxHPn0puUpJV825MBkQJ=w1366-h133-no?authuser=0\" width=\"1000\" align=\"center\"></center>"
      ]
    },
    {
      "cell_type": "code",
      "metadata": {
        "id": "xEjAFQMv2Jve",
        "colab_type": "code",
        "colab": {
          "base_uri": "https://localhost:8080/",
          "height": 343
        },
        "outputId": "941a78f3-4bdb-4578-9e8c-b2a4c566b855"
      },
      "source": [
        "df = pd.read_csv(\"propiedades.csv\")\n",
        "des = df.describe()\n",
        "des.loc['Nan'] = df.isnull().sum()\n",
        "des.loc['%Nan'] = (df.isnull().mean())*100\n",
        "des"
      ],
      "execution_count": null,
      "outputs": [
        {
          "output_type": "execute_result",
          "data": {
            "text/html": [
              "<div>\n",
              "<style scoped>\n",
              "    .dataframe tbody tr th:only-of-type {\n",
              "        vertical-align: middle;\n",
              "    }\n",
              "\n",
              "    .dataframe tbody tr th {\n",
              "        vertical-align: top;\n",
              "    }\n",
              "\n",
              "    .dataframe thead th {\n",
              "        text-align: right;\n",
              "    }\n",
              "</style>\n",
              "<table border=\"1\" class=\"dataframe\">\n",
              "  <thead>\n",
              "    <tr style=\"text-align: right;\">\n",
              "      <th></th>\n",
              "      <th>Unnamed: 0</th>\n",
              "      <th>latitud</th>\n",
              "      <th>longitud</th>\n",
              "      <th>precio</th>\n",
              "      <th>m2</th>\n",
              "      <th>ambientes</th>\n",
              "    </tr>\n",
              "  </thead>\n",
              "  <tbody>\n",
              "    <tr>\n",
              "      <th>count</th>\n",
              "      <td>497.000000</td>\n",
              "      <td>497.000000</td>\n",
              "      <td>497.000000</td>\n",
              "      <td>497.000000</td>\n",
              "      <td>495.000000</td>\n",
              "      <td>493.000000</td>\n",
              "    </tr>\n",
              "    <tr>\n",
              "      <th>mean</th>\n",
              "      <td>248.000000</td>\n",
              "      <td>-34.435210</td>\n",
              "      <td>-58.350448</td>\n",
              "      <td>35192.064386</td>\n",
              "      <td>67.442485</td>\n",
              "      <td>2.160243</td>\n",
              "    </tr>\n",
              "    <tr>\n",
              "      <th>std</th>\n",
              "      <td>143.615807</td>\n",
              "      <td>3.697256</td>\n",
              "      <td>3.521822</td>\n",
              "      <td>47710.037337</td>\n",
              "      <td>67.655392</td>\n",
              "      <td>1.533064</td>\n",
              "    </tr>\n",
              "    <tr>\n",
              "      <th>min</th>\n",
              "      <td>0.000000</td>\n",
              "      <td>-38.001750</td>\n",
              "      <td>-120.740135</td>\n",
              "      <td>27.000000</td>\n",
              "      <td>0.000000</td>\n",
              "      <td>0.000000</td>\n",
              "    </tr>\n",
              "    <tr>\n",
              "      <th>25%</th>\n",
              "      <td>124.000000</td>\n",
              "      <td>-34.605970</td>\n",
              "      <td>-58.439583</td>\n",
              "      <td>3500.000000</td>\n",
              "      <td>35.500000</td>\n",
              "      <td>1.000000</td>\n",
              "    </tr>\n",
              "    <tr>\n",
              "      <th>50%</th>\n",
              "      <td>248.000000</td>\n",
              "      <td>-34.594700</td>\n",
              "      <td>-58.418290</td>\n",
              "      <td>25000.000000</td>\n",
              "      <td>46.000000</td>\n",
              "      <td>2.000000</td>\n",
              "    </tr>\n",
              "    <tr>\n",
              "      <th>75%</th>\n",
              "      <td>372.000000</td>\n",
              "      <td>-34.580566</td>\n",
              "      <td>-58.392807</td>\n",
              "      <td>40000.000000</td>\n",
              "      <td>70.000000</td>\n",
              "      <td>3.000000</td>\n",
              "    </tr>\n",
              "    <tr>\n",
              "      <th>max</th>\n",
              "      <td>496.000000</td>\n",
              "      <td>47.751076</td>\n",
              "      <td>-34.588875</td>\n",
              "      <td>450000.000000</td>\n",
              "      <td>700.000000</td>\n",
              "      <td>18.000000</td>\n",
              "    </tr>\n",
              "    <tr>\n",
              "      <th>Nan</th>\n",
              "      <td>0.000000</td>\n",
              "      <td>0.000000</td>\n",
              "      <td>0.000000</td>\n",
              "      <td>0.000000</td>\n",
              "      <td>2.000000</td>\n",
              "      <td>4.000000</td>\n",
              "    </tr>\n",
              "    <tr>\n",
              "      <th>%Nan</th>\n",
              "      <td>0.000000</td>\n",
              "      <td>0.000000</td>\n",
              "      <td>0.000000</td>\n",
              "      <td>0.000000</td>\n",
              "      <td>0.402414</td>\n",
              "      <td>0.804829</td>\n",
              "    </tr>\n",
              "  </tbody>\n",
              "</table>\n",
              "</div>"
            ],
            "text/plain": [
              "       Unnamed: 0     latitud  ...          m2   ambientes\n",
              "count  497.000000  497.000000  ...  495.000000  493.000000\n",
              "mean   248.000000  -34.435210  ...   67.442485    2.160243\n",
              "std    143.615807    3.697256  ...   67.655392    1.533064\n",
              "min      0.000000  -38.001750  ...    0.000000    0.000000\n",
              "25%    124.000000  -34.605970  ...   35.500000    1.000000\n",
              "50%    248.000000  -34.594700  ...   46.000000    2.000000\n",
              "75%    372.000000  -34.580566  ...   70.000000    3.000000\n",
              "max    496.000000   47.751076  ...  700.000000   18.000000\n",
              "Nan      0.000000    0.000000  ...    2.000000    4.000000\n",
              "%Nan     0.000000    0.000000  ...    0.402414    0.804829\n",
              "\n",
              "[10 rows x 6 columns]"
            ]
          },
          "metadata": {
            "tags": []
          },
          "execution_count": 4
        }
      ]
    },
    {
      "cell_type": "code",
      "metadata": {
        "id": "eD6vlk0b1DTz",
        "colab_type": "code",
        "colab": {}
      },
      "source": [
        "# Sacamos todas las filas de la tabla las cuales el campo \"m2\" o \"ambientes\" se encuentre vacio\n",
        "df_clean = df[df['m2'].notna()]\n",
        "df_clean = df_clean[df_clean['ambientes'].notna()]"
      ],
      "execution_count": null,
      "outputs": []
    },
    {
      "cell_type": "markdown",
      "metadata": {
        "id": "BoxU1u4F2IBr",
        "colab_type": "text"
      },
      "source": [
        "# Explorar datos"
      ]
    },
    {
      "cell_type": "markdown",
      "metadata": {
        "colab_type": "text",
        "id": "1STj67AueFmF"
      },
      "source": [
        "<center><img src=\"https://lh3.googleusercontent.com/pw/ACtC-3ePJ3-PFgVLwddhdqRi7z7VRo8j3r6LBSRPzWNek5805rJeEdWJKIbAKGj133aGArHgu1oe8-IDj9ET8FtAW0R5GrUOcPzgG0nnUFhfIRyug0VQ_2DwNB_zmMuReBy60ExzOQprBc8us4HlthdvRtx6=w1366-h133-no?authuser=0\" width=\"1000\" align=\"center\"></center>"
      ]
    },
    {
      "cell_type": "code",
      "metadata": {
        "id": "4lShOcNu6ZP4",
        "colab_type": "code",
        "colab": {
          "base_uri": "https://localhost:8080/",
          "height": 534
        },
        "outputId": "5ac6bb18-9aa3-4627-fd00-c04202714704"
      },
      "source": [
        "print('Cantidad de departamentos en observacion:', df_clean.shape[0])\n",
        "df_clean.head()"
      ],
      "execution_count": null,
      "outputs": [
        {
          "output_type": "stream",
          "text": [
            "Cantidad de departamentos en observacion: 493\n"
          ],
          "name": "stdout"
        },
        {
          "output_type": "execute_result",
          "data": {
            "text/html": [
              "<div>\n",
              "<style scoped>\n",
              "    .dataframe tbody tr th:only-of-type {\n",
              "        vertical-align: middle;\n",
              "    }\n",
              "\n",
              "    .dataframe tbody tr th {\n",
              "        vertical-align: top;\n",
              "    }\n",
              "\n",
              "    .dataframe thead th {\n",
              "        text-align: right;\n",
              "    }\n",
              "</style>\n",
              "<table border=\"1\" class=\"dataframe\">\n",
              "  <thead>\n",
              "    <tr style=\"text-align: right;\">\n",
              "      <th></th>\n",
              "      <th>Unnamed: 0</th>\n",
              "      <th>fecha</th>\n",
              "      <th>latitud</th>\n",
              "      <th>longitud</th>\n",
              "      <th>url</th>\n",
              "      <th>titulo</th>\n",
              "      <th>tipo_propiedad</th>\n",
              "      <th>precio</th>\n",
              "      <th>moneda</th>\n",
              "      <th>m2</th>\n",
              "      <th>ambientes</th>\n",
              "    </tr>\n",
              "  </thead>\n",
              "  <tbody>\n",
              "    <tr>\n",
              "      <th>0</th>\n",
              "      <td>0</td>\n",
              "      <td>2020_09_24</td>\n",
              "      <td>-34.611270</td>\n",
              "      <td>-58.363780</td>\n",
              "      <td>https://departamento.mercadolibre.com.ar/MLA-7...</td>\n",
              "      <td>Departamento-alquiler - Puerto Madero-situar</td>\n",
              "      <td>Departamento</td>\n",
              "      <td>2900.0</td>\n",
              "      <td>USD</td>\n",
              "      <td>192.0</td>\n",
              "      <td>4.0</td>\n",
              "    </tr>\n",
              "    <tr>\n",
              "      <th>1</th>\n",
              "      <td>1</td>\n",
              "      <td>2020_09_24</td>\n",
              "      <td>-34.586830</td>\n",
              "      <td>-58.439266</td>\n",
              "      <td>https://departamento.mercadolibre.com.ar/MLA-8...</td>\n",
              "      <td>Loft  Duplex  Palermo Hollywood Amoblado Alqui...</td>\n",
              "      <td>Departamento</td>\n",
              "      <td>79000.0</td>\n",
              "      <td>ARS</td>\n",
              "      <td>70.0</td>\n",
              "      <td>2.0</td>\n",
              "    </tr>\n",
              "    <tr>\n",
              "      <th>2</th>\n",
              "      <td>2</td>\n",
              "      <td>2020_09_24</td>\n",
              "      <td>-34.601160</td>\n",
              "      <td>-58.376804</td>\n",
              "      <td>https://departamento.mercadolibre.com.ar/MLA-8...</td>\n",
              "      <td>Dueño Alquila  1 Amb.  Amoblado - Caba - Zona:...</td>\n",
              "      <td>Departamento</td>\n",
              "      <td>23500.0</td>\n",
              "      <td>ARS</td>\n",
              "      <td>30.0</td>\n",
              "      <td>1.0</td>\n",
              "    </tr>\n",
              "    <tr>\n",
              "      <th>3</th>\n",
              "      <td>3</td>\n",
              "      <td>2020_09_24</td>\n",
              "      <td>-34.548042</td>\n",
              "      <td>-58.466156</td>\n",
              "      <td>https://departamento.mercadolibre.com.ar/MLA-8...</td>\n",
              "      <td>Departamento Equipado Y Amueblado Muy Buen Estado</td>\n",
              "      <td>Departamento</td>\n",
              "      <td>80000.0</td>\n",
              "      <td>ARS</td>\n",
              "      <td>130.0</td>\n",
              "      <td>5.0</td>\n",
              "    </tr>\n",
              "    <tr>\n",
              "      <th>4</th>\n",
              "      <td>4</td>\n",
              "      <td>2020_09_24</td>\n",
              "      <td>-34.612488</td>\n",
              "      <td>-58.426605</td>\n",
              "      <td>https://departamento.mercadolibre.com.ar/MLA-8...</td>\n",
              "      <td>Alquiler Temporario , Zona Hospital Italiano</td>\n",
              "      <td>Departamento</td>\n",
              "      <td>2000.0</td>\n",
              "      <td>ARS</td>\n",
              "      <td>60.0</td>\n",
              "      <td>2.0</td>\n",
              "    </tr>\n",
              "  </tbody>\n",
              "</table>\n",
              "</div>"
            ],
            "text/plain": [
              "   Unnamed: 0       fecha    latitud  ...  moneda     m2 ambientes\n",
              "0           0  2020_09_24 -34.611270  ...     USD  192.0       4.0\n",
              "1           1  2020_09_24 -34.586830  ...     ARS   70.0       2.0\n",
              "2           2  2020_09_24 -34.601160  ...     ARS   30.0       1.0\n",
              "3           3  2020_09_24 -34.548042  ...     ARS  130.0       5.0\n",
              "4           4  2020_09_24 -34.612488  ...     ARS   60.0       2.0\n",
              "\n",
              "[5 rows x 11 columns]"
            ]
          },
          "metadata": {
            "tags": []
          },
          "execution_count": 6
        }
      ]
    },
    {
      "cell_type": "markdown",
      "metadata": {
        "id": "QHxeCemv8w3s",
        "colab_type": "text"
      },
      "source": [
        "## Nos quedamos solamente con aquellas filas que el precio haya sido informado en pesos Argentinos"
      ]
    },
    {
      "cell_type": "code",
      "metadata": {
        "id": "9PmFL_yZ8qeW",
        "colab_type": "code",
        "colab": {
          "base_uri": "https://localhost:8080/",
          "height": 284
        },
        "outputId": "97a40e60-25aa-452e-bd02-28b6dee23ca9"
      },
      "source": [
        "df_ars = df_clean[df_clean['moneda'] == 'ARS']\n",
        "print('Cantidad de departamentos en observacion:', df_ars.shape[0])\n",
        "gibioplot.boxplot(df_ars['m2'], 'Metros cuatrados')"
      ],
      "execution_count": null,
      "outputs": [
        {
          "output_type": "stream",
          "text": [
            "Cantidad de departamentos en observacion: 423\n"
          ],
          "name": "stdout"
        },
        {
          "output_type": "display_data",
          "data": {
            "text/html": [
              "<html>\n",
              "<head><meta charset=\"utf-8\" /></head>\n",
              "<body>\n",
              "    <div>\n",
              "            <script src=\"https://cdnjs.cloudflare.com/ajax/libs/mathjax/2.7.5/MathJax.js?config=TeX-AMS-MML_SVG\"></script><script type=\"text/javascript\">if (window.MathJax) {MathJax.Hub.Config({SVG: {font: \"STIX-Web\"}});}</script>\n",
              "                <script type=\"text/javascript\">window.PlotlyConfig = {MathJaxConfig: 'local'};</script>\n",
              "        <script src=\"https://cdn.plot.ly/plotly-latest.min.js\"></script>    \n",
              "            <div id=\"2ecda694-fb03-437e-a895-a3dad01902a2\" class=\"plotly-graph-div\" style=\"height:250px; width:100%;\"></div>\n",
              "            <script type=\"text/javascript\">\n",
              "                \n",
              "                    window.PLOTLYENV=window.PLOTLYENV || {};\n",
              "                    \n",
              "                if (document.getElementById(\"2ecda694-fb03-437e-a895-a3dad01902a2\")) {\n",
              "                    Plotly.newPlot(\n",
              "                        '2ecda694-fb03-437e-a895-a3dad01902a2',\n",
              "                        [{\"boxmean\": true, \"fillcolor\": \"#00a2a5\", \"line\": {\"width\": 1.5}, \"marker\": {\"color\": \"#ffffa5\", \"size\": 10}, \"name\": \"Metros cuatrados\", \"type\": \"box\", \"x\": [70.0, 30.0, 130.0, 60.0, 25.0, 82.0, 24.0, 57.0, 95.0, 60.0, 64.0, 39.0, 32.0, 65.0, 55.0, 30.0, 50.0, 45.0, 35.0, 30.0, 60.0, 60.0, 60.0, 85.0, 30.0, 46.0, 37.0, 40.0, 50.0, 33.0, 50.0, 35.0, 35.0, 35.0, 38.0, 97.0, 50.0, 82.0, 36.0, 70.0, 35.0, 50.0, 48.0, 44.0, 39.0, 40.0, 72.0, 60.0, 35.0, 100.0, 35.0, 38.0, 45.0, 38.0, 40.0, 40.0, 50.0, 34.0, 37.0, 22.0, 90.0, 60.0, 90.0, 40.0, 42.0, 50.0, 42.0, 44.0, 35.0, 45.0, 58.0, 44.0, 25.0, 70.0, 52.0, 65.0, 21.0, 42.0, 50.0, 43.0, 70.0, 70.0, 38.0, 70.0, 65.0, 45.0, 30.0, 500.0, 36.0, 33.0, 39.0, 42.0, 160.0, 42.0, 52.0, 35.0, 38.0, 23.0, 45.0, 27.0, 30.0, 42.5, 700.0, 700.0, 40.0, 96.0, 20.0, 35.0, 35.0, 55.0, 94.0, 63.0, 45.0, 40.0, 200.0, 30.0, 90.0, 42.0, 26.0, 33.0, 20.0, 73.0, 42.0, 70.0, 37.0, 96.0, 23.0, 30.0, 30.0, 120.0, 25.0, 30.0, 85.0, 43.0, 52.0, 35.0, 35.0, 53.0, 38.0, 70.0, 35.0, 110.0, 110.0, 68.0, 80.0, 65.0, 200.0, 47.0, 65.0, 74.0, 40.0, 42.0, 36.0, 100.0, 45.0, 33.0, 43.0, 29.0, 27.0, 29.0, 40.0, 60.0, 37.0, 74.0, 40.0, 42.0, 60.0, 48.0, 35.0, 27.0, 45.0, 23.0, 60.0, 45.0, 45.0, 37.0, 85.0, 160.0, 63.0, 35.0, 90.0, 37.0, 38.0, 75.0, 70.0, 55.0, 59.0, 38.0, 22.0, 56.0, 44.0, 100.0, 48.0, 48.0, 28.0, 40.0, 45.0, 78.0, 42.0, 30.0, 38.0, 22.0, 30.0, 45.0, 70.0, 25.0, 50.0, 20.0, 44.0, 42.0, 150.0, 46.0, 50.0, 230.0, 35.0, 80.0, 44.0, 35.0, 55.0, 50.0, 45.0, 30.0, 36.0, 42.0, 70.0, 200.0, 46.0, 120.0, 49.5, 69.0, 69.0, 37.0, 80.0, 104.0, 108.0, 25.0, 44.0, 46.0, 78.0, 50.0, 70.0, 35.0, 55.0, 45.0, 55.0, 55.0, 44.0, 55.0, 31.0, 32.3, 45.0, 30.0, 60.0, 45.0, 58.0, 35.0, 85.0, 42.0, 35.0, 40.0, 79.0, 55.0, 40.0, 20.0, 45.0, 42.0, 55.0, 67.0, 45.0, 40.0, 37.0, 40.0, 25.0, 42.0, 60.0, 65.0, 160.0, 85.0, 120.0, 60.0, 30.0, 156.0, 34.0, 51.0, 35.0, 30.0, 33.0, 54.0, 49.0, 30.0, 25.0, 45.0, 33.0, 40.0, 36.0, 50.0, 35.0, 55.0, 35.0, 38.5, 64.0, 98.0, 30.0, 120.0, 33.0, 30.0, 280.0, 76.0, 23.0, 68.0, 27.0, 80.0, 55.0, 40.0, 60.0, 62.0, 18.0, 39.0, 82.0, 39.0, 50.0, 130.0, 112.0, 30.0, 36.0, 60.0, 39.0, 37.0, 65.0, 40.0, 34.0, 80.0, 63.0, 77.0, 46.0, 87.0, 50.0, 51.0, 37.0, 46.0, 58.0, 45.0, 108.0, 108.0, 20.0, 35.0, 34.0, 80.0, 48.0, 76.0, 58.0, 44.0, 34.0, 34.0, 88.0, 115.0, 39.0, 250.0, 33.0, 50.0, 22.0, 29.0, 40.0, 28.0, 43.0, 45.0, 32.0, 120.0, 40.0, 73.0, 50.0, 25.0, 135.0, 0.0, 40.0, 30.0, 32.0, 55.0, 0.0, 35.0, 38.0, 35.0, 42.0, 40.0, 48.0, 29.0, 130.0, 0.0, 52.0, 22.0, 22.0, 63.0, 110.0, 39.0, 38.0, 48.0, 125.0, 0.0, 46.0, 45.0, 65.0, 50.0, 80.0, 135.0, 205.0, 216.0, 60.0, 52.0, 29.0, 45.0, 42.8, 71.0, 184.0, 80.0, 49.0, 33.0, 24.0, 35.0, 25.0, 38.0, 63.0, 153.0, 40.0]}],\n",
              "                        {\"font\": {\"color\": \"#ffa100\"}, \"height\": 250, \"hoverlabel\": {\"bgcolor\": \"#364e59\", \"font\": {\"family\": \"verdana\", \"size\": 14}}, \"hovermode\": \"x\", \"margin\": {\"b\": 30, \"l\": 50, \"t\": 5}, \"paper_bgcolor\": \"#383838\", \"plot_bgcolor\": \"#364e59\", \"showlegend\": false, \"template\": {\"data\": {\"bar\": [{\"error_x\": {\"color\": \"#2a3f5f\"}, \"error_y\": {\"color\": \"#2a3f5f\"}, \"marker\": {\"line\": {\"color\": \"#E5ECF6\", \"width\": 0.5}}, \"type\": \"bar\"}], \"barpolar\": [{\"marker\": {\"line\": {\"color\": \"#E5ECF6\", \"width\": 0.5}}, \"type\": \"barpolar\"}], \"carpet\": [{\"aaxis\": {\"endlinecolor\": \"#2a3f5f\", \"gridcolor\": \"white\", \"linecolor\": \"white\", \"minorgridcolor\": \"white\", \"startlinecolor\": \"#2a3f5f\"}, \"baxis\": {\"endlinecolor\": \"#2a3f5f\", \"gridcolor\": \"white\", \"linecolor\": \"white\", \"minorgridcolor\": \"white\", \"startlinecolor\": \"#2a3f5f\"}, \"type\": \"carpet\"}], \"choropleth\": [{\"colorbar\": {\"outlinewidth\": 0, \"ticks\": \"\"}, \"type\": \"choropleth\"}], \"contour\": [{\"colorbar\": {\"outlinewidth\": 0, \"ticks\": \"\"}, \"colorscale\": [[0.0, \"#0d0887\"], [0.1111111111111111, \"#46039f\"], [0.2222222222222222, \"#7201a8\"], [0.3333333333333333, \"#9c179e\"], [0.4444444444444444, \"#bd3786\"], [0.5555555555555556, \"#d8576b\"], [0.6666666666666666, \"#ed7953\"], [0.7777777777777778, \"#fb9f3a\"], [0.8888888888888888, \"#fdca26\"], [1.0, \"#f0f921\"]], \"type\": \"contour\"}], \"contourcarpet\": [{\"colorbar\": {\"outlinewidth\": 0, \"ticks\": \"\"}, \"type\": \"contourcarpet\"}], \"heatmap\": [{\"colorbar\": {\"outlinewidth\": 0, \"ticks\": \"\"}, \"colorscale\": [[0.0, \"#0d0887\"], [0.1111111111111111, \"#46039f\"], [0.2222222222222222, \"#7201a8\"], [0.3333333333333333, \"#9c179e\"], [0.4444444444444444, \"#bd3786\"], [0.5555555555555556, \"#d8576b\"], [0.6666666666666666, \"#ed7953\"], [0.7777777777777778, \"#fb9f3a\"], [0.8888888888888888, \"#fdca26\"], [1.0, \"#f0f921\"]], \"type\": \"heatmap\"}], \"heatmapgl\": [{\"colorbar\": {\"outlinewidth\": 0, \"ticks\": \"\"}, \"colorscale\": [[0.0, \"#0d0887\"], [0.1111111111111111, \"#46039f\"], [0.2222222222222222, \"#7201a8\"], [0.3333333333333333, \"#9c179e\"], [0.4444444444444444, \"#bd3786\"], [0.5555555555555556, \"#d8576b\"], [0.6666666666666666, \"#ed7953\"], [0.7777777777777778, \"#fb9f3a\"], [0.8888888888888888, \"#fdca26\"], [1.0, \"#f0f921\"]], \"type\": \"heatmapgl\"}], \"histogram\": [{\"marker\": {\"colorbar\": {\"outlinewidth\": 0, \"ticks\": \"\"}}, \"type\": \"histogram\"}], \"histogram2d\": [{\"colorbar\": {\"outlinewidth\": 0, \"ticks\": \"\"}, \"colorscale\": [[0.0, \"#0d0887\"], [0.1111111111111111, \"#46039f\"], [0.2222222222222222, \"#7201a8\"], [0.3333333333333333, \"#9c179e\"], [0.4444444444444444, \"#bd3786\"], [0.5555555555555556, \"#d8576b\"], [0.6666666666666666, \"#ed7953\"], [0.7777777777777778, \"#fb9f3a\"], [0.8888888888888888, \"#fdca26\"], [1.0, \"#f0f921\"]], \"type\": \"histogram2d\"}], \"histogram2dcontour\": [{\"colorbar\": {\"outlinewidth\": 0, \"ticks\": \"\"}, \"colorscale\": [[0.0, \"#0d0887\"], [0.1111111111111111, \"#46039f\"], [0.2222222222222222, \"#7201a8\"], [0.3333333333333333, \"#9c179e\"], [0.4444444444444444, \"#bd3786\"], [0.5555555555555556, \"#d8576b\"], [0.6666666666666666, \"#ed7953\"], [0.7777777777777778, \"#fb9f3a\"], [0.8888888888888888, \"#fdca26\"], [1.0, \"#f0f921\"]], \"type\": \"histogram2dcontour\"}], \"mesh3d\": [{\"colorbar\": {\"outlinewidth\": 0, \"ticks\": \"\"}, \"type\": \"mesh3d\"}], \"parcoords\": [{\"line\": {\"colorbar\": {\"outlinewidth\": 0, \"ticks\": \"\"}}, \"type\": \"parcoords\"}], \"pie\": [{\"automargin\": true, \"type\": \"pie\"}], \"scatter\": [{\"marker\": {\"colorbar\": {\"outlinewidth\": 0, \"ticks\": \"\"}}, \"type\": \"scatter\"}], \"scatter3d\": [{\"line\": {\"colorbar\": {\"outlinewidth\": 0, \"ticks\": \"\"}}, \"marker\": {\"colorbar\": {\"outlinewidth\": 0, \"ticks\": \"\"}}, \"type\": \"scatter3d\"}], \"scattercarpet\": [{\"marker\": {\"colorbar\": {\"outlinewidth\": 0, \"ticks\": \"\"}}, \"type\": \"scattercarpet\"}], \"scattergeo\": [{\"marker\": {\"colorbar\": {\"outlinewidth\": 0, \"ticks\": \"\"}}, \"type\": \"scattergeo\"}], \"scattergl\": [{\"marker\": {\"colorbar\": {\"outlinewidth\": 0, \"ticks\": \"\"}}, \"type\": \"scattergl\"}], \"scattermapbox\": [{\"marker\": {\"colorbar\": {\"outlinewidth\": 0, \"ticks\": \"\"}}, \"type\": \"scattermapbox\"}], \"scatterpolar\": [{\"marker\": {\"colorbar\": {\"outlinewidth\": 0, \"ticks\": \"\"}}, \"type\": \"scatterpolar\"}], \"scatterpolargl\": [{\"marker\": {\"colorbar\": {\"outlinewidth\": 0, \"ticks\": \"\"}}, \"type\": \"scatterpolargl\"}], \"scatterternary\": [{\"marker\": {\"colorbar\": {\"outlinewidth\": 0, \"ticks\": \"\"}}, \"type\": \"scatterternary\"}], \"surface\": [{\"colorbar\": {\"outlinewidth\": 0, \"ticks\": \"\"}, \"colorscale\": [[0.0, \"#0d0887\"], [0.1111111111111111, \"#46039f\"], [0.2222222222222222, \"#7201a8\"], [0.3333333333333333, \"#9c179e\"], [0.4444444444444444, \"#bd3786\"], [0.5555555555555556, \"#d8576b\"], [0.6666666666666666, \"#ed7953\"], [0.7777777777777778, \"#fb9f3a\"], [0.8888888888888888, \"#fdca26\"], [1.0, \"#f0f921\"]], \"type\": \"surface\"}], \"table\": [{\"cells\": {\"fill\": {\"color\": \"#EBF0F8\"}, \"line\": {\"color\": \"white\"}}, \"header\": {\"fill\": {\"color\": \"#C8D4E3\"}, \"line\": {\"color\": \"white\"}}, \"type\": \"table\"}]}, \"layout\": {\"annotationdefaults\": {\"arrowcolor\": \"#2a3f5f\", \"arrowhead\": 0, \"arrowwidth\": 1}, \"coloraxis\": {\"colorbar\": {\"outlinewidth\": 0, \"ticks\": \"\"}}, \"colorscale\": {\"diverging\": [[0, \"#8e0152\"], [0.1, \"#c51b7d\"], [0.2, \"#de77ae\"], [0.3, \"#f1b6da\"], [0.4, \"#fde0ef\"], [0.5, \"#f7f7f7\"], [0.6, \"#e6f5d0\"], [0.7, \"#b8e186\"], [0.8, \"#7fbc41\"], [0.9, \"#4d9221\"], [1, \"#276419\"]], \"sequential\": [[0.0, \"#0d0887\"], [0.1111111111111111, \"#46039f\"], [0.2222222222222222, \"#7201a8\"], [0.3333333333333333, \"#9c179e\"], [0.4444444444444444, \"#bd3786\"], [0.5555555555555556, \"#d8576b\"], [0.6666666666666666, \"#ed7953\"], [0.7777777777777778, \"#fb9f3a\"], [0.8888888888888888, \"#fdca26\"], [1.0, \"#f0f921\"]], \"sequentialminus\": [[0.0, \"#0d0887\"], [0.1111111111111111, \"#46039f\"], [0.2222222222222222, \"#7201a8\"], [0.3333333333333333, \"#9c179e\"], [0.4444444444444444, \"#bd3786\"], [0.5555555555555556, \"#d8576b\"], [0.6666666666666666, \"#ed7953\"], [0.7777777777777778, \"#fb9f3a\"], [0.8888888888888888, \"#fdca26\"], [1.0, \"#f0f921\"]]}, \"colorway\": [\"#636efa\", \"#EF553B\", \"#00cc96\", \"#ab63fa\", \"#FFA15A\", \"#19d3f3\", \"#FF6692\", \"#B6E880\", \"#FF97FF\", \"#FECB52\"], \"font\": {\"color\": \"#2a3f5f\"}, \"geo\": {\"bgcolor\": \"white\", \"lakecolor\": \"white\", \"landcolor\": \"#E5ECF6\", \"showlakes\": true, \"showland\": true, \"subunitcolor\": \"white\"}, \"hoverlabel\": {\"align\": \"left\"}, \"hovermode\": \"closest\", \"mapbox\": {\"style\": \"light\"}, \"paper_bgcolor\": \"white\", \"plot_bgcolor\": \"#E5ECF6\", \"polar\": {\"angularaxis\": {\"gridcolor\": \"white\", \"linecolor\": \"white\", \"ticks\": \"\"}, \"bgcolor\": \"#E5ECF6\", \"radialaxis\": {\"gridcolor\": \"white\", \"linecolor\": \"white\", \"ticks\": \"\"}}, \"scene\": {\"xaxis\": {\"backgroundcolor\": \"#E5ECF6\", \"gridcolor\": \"white\", \"gridwidth\": 2, \"linecolor\": \"white\", \"showbackground\": true, \"ticks\": \"\", \"zerolinecolor\": \"white\"}, \"yaxis\": {\"backgroundcolor\": \"#E5ECF6\", \"gridcolor\": \"white\", \"gridwidth\": 2, \"linecolor\": \"white\", \"showbackground\": true, \"ticks\": \"\", \"zerolinecolor\": \"white\"}, \"zaxis\": {\"backgroundcolor\": \"#E5ECF6\", \"gridcolor\": \"white\", \"gridwidth\": 2, \"linecolor\": \"white\", \"showbackground\": true, \"ticks\": \"\", \"zerolinecolor\": \"white\"}}, \"shapedefaults\": {\"line\": {\"color\": \"#2a3f5f\"}}, \"ternary\": {\"aaxis\": {\"gridcolor\": \"white\", \"linecolor\": \"white\", \"ticks\": \"\"}, \"baxis\": {\"gridcolor\": \"white\", \"linecolor\": \"white\", \"ticks\": \"\"}, \"bgcolor\": \"#E5ECF6\", \"caxis\": {\"gridcolor\": \"white\", \"linecolor\": \"white\", \"ticks\": \"\"}}, \"title\": {\"x\": 0.05}, \"xaxis\": {\"automargin\": true, \"gridcolor\": \"white\", \"linecolor\": \"white\", \"ticks\": \"\", \"title\": {\"standoff\": 15}, \"zerolinecolor\": \"white\", \"zerolinewidth\": 2}, \"yaxis\": {\"automargin\": true, \"gridcolor\": \"white\", \"linecolor\": \"white\", \"ticks\": \"\", \"title\": {\"standoff\": 15}, \"zerolinecolor\": \"white\", \"zerolinewidth\": 2}}}, \"xaxis\": {\"gridcolor\": \"#2f2933\", \"zerolinecolor\": \"#2f2933\"}, \"yaxis\": {\"autorange\": true, \"dtick\": 5, \"gridcolor\": \"#2f2933\", \"gridwidth\": 1, \"showgrid\": true, \"zeroline\": true, \"zerolinecolor\": \"#2f2933\", \"zerolinewidth\": 4}},\n",
              "                        {\"responsive\": true}\n",
              "                    ).then(function(){\n",
              "                            \n",
              "var gd = document.getElementById('2ecda694-fb03-437e-a895-a3dad01902a2');\n",
              "var x = new MutationObserver(function (mutations, observer) {{\n",
              "        var display = window.getComputedStyle(gd).display;\n",
              "        if (!display || display === 'none') {{\n",
              "            console.log([gd, 'removed!']);\n",
              "            Plotly.purge(gd);\n",
              "            observer.disconnect();\n",
              "        }}\n",
              "}});\n",
              "\n",
              "// Listen for the removal of the full notebook cells\n",
              "var notebookContainer = gd.closest('#notebook-container');\n",
              "if (notebookContainer) {{\n",
              "    x.observe(notebookContainer, {childList: true});\n",
              "}}\n",
              "\n",
              "// Listen for the clearing of the current output cell\n",
              "var outputEl = gd.closest('.output');\n",
              "if (outputEl) {{\n",
              "    x.observe(outputEl, {childList: true});\n",
              "}}\n",
              "\n",
              "                        })\n",
              "                };\n",
              "                \n",
              "            </script>\n",
              "        </div>\n",
              "</body>\n",
              "</html>"
            ]
          },
          "metadata": {
            "tags": []
          }
        }
      ]
    },
    {
      "cell_type": "markdown",
      "metadata": {
        "id": "Yg7pg8hg9vHQ",
        "colab_type": "text"
      },
      "source": [
        "## Eliminar los elementos que se van fuera del rango de análisis"
      ]
    },
    {
      "cell_type": "code",
      "metadata": {
        "id": "y8FZfqcJ9unq",
        "colab_type": "code",
        "colab": {
          "base_uri": "https://localhost:8080/",
          "height": 284
        },
        "outputId": "6f345701-7ae9-488d-cbf0-ed5fac764b56"
      },
      "source": [
        "# Nos quedamos solamente con los deparamentos menor a 200m2\n",
        "propiedades = df_ars[df_ars['m2'] < 200]\n",
        "gibioplot.boxplot(propiedades['m2'], 'Metros cuatrados')\n",
        "print('Cantidad de departamentos en observacion:', propiedades.shape[0])"
      ],
      "execution_count": 13,
      "outputs": [
        {
          "output_type": "display_data",
          "data": {
            "text/html": [
              "<html>\n",
              "<head><meta charset=\"utf-8\" /></head>\n",
              "<body>\n",
              "    <div>\n",
              "            <script src=\"https://cdnjs.cloudflare.com/ajax/libs/mathjax/2.7.5/MathJax.js?config=TeX-AMS-MML_SVG\"></script><script type=\"text/javascript\">if (window.MathJax) {MathJax.Hub.Config({SVG: {font: \"STIX-Web\"}});}</script>\n",
              "                <script type=\"text/javascript\">window.PlotlyConfig = {MathJaxConfig: 'local'};</script>\n",
              "        <script src=\"https://cdn.plot.ly/plotly-latest.min.js\"></script>    \n",
              "            <div id=\"64133036-958f-4ed0-b846-281c331966d0\" class=\"plotly-graph-div\" style=\"height:250px; width:100%;\"></div>\n",
              "            <script type=\"text/javascript\">\n",
              "                \n",
              "                    window.PLOTLYENV=window.PLOTLYENV || {};\n",
              "                    \n",
              "                if (document.getElementById(\"64133036-958f-4ed0-b846-281c331966d0\")) {\n",
              "                    Plotly.newPlot(\n",
              "                        '64133036-958f-4ed0-b846-281c331966d0',\n",
              "                        [{\"boxmean\": true, \"fillcolor\": \"#00a2a5\", \"line\": {\"width\": 1.5}, \"marker\": {\"color\": \"#ffffa5\", \"size\": 10}, \"name\": \"Metros cuatrados\", \"type\": \"box\", \"x\": [70.0, 30.0, 130.0, 60.0, 25.0, 82.0, 24.0, 57.0, 95.0, 60.0, 64.0, 39.0, 32.0, 65.0, 55.0, 30.0, 50.0, 45.0, 35.0, 30.0, 60.0, 60.0, 60.0, 85.0, 30.0, 46.0, 37.0, 40.0, 50.0, 33.0, 50.0, 35.0, 35.0, 35.0, 38.0, 97.0, 50.0, 82.0, 36.0, 70.0, 35.0, 50.0, 48.0, 44.0, 39.0, 40.0, 72.0, 60.0, 35.0, 100.0, 35.0, 38.0, 45.0, 38.0, 40.0, 40.0, 50.0, 34.0, 37.0, 22.0, 90.0, 60.0, 90.0, 40.0, 42.0, 50.0, 42.0, 44.0, 35.0, 45.0, 58.0, 44.0, 25.0, 70.0, 52.0, 65.0, 21.0, 42.0, 50.0, 43.0, 70.0, 70.0, 38.0, 70.0, 65.0, 45.0, 30.0, 36.0, 33.0, 39.0, 42.0, 160.0, 42.0, 52.0, 35.0, 38.0, 23.0, 45.0, 27.0, 30.0, 42.5, 40.0, 96.0, 20.0, 35.0, 35.0, 55.0, 94.0, 63.0, 45.0, 40.0, 30.0, 90.0, 42.0, 26.0, 33.0, 20.0, 73.0, 42.0, 70.0, 37.0, 96.0, 23.0, 30.0, 30.0, 120.0, 25.0, 30.0, 85.0, 43.0, 52.0, 35.0, 35.0, 53.0, 38.0, 70.0, 35.0, 110.0, 110.0, 68.0, 80.0, 65.0, 47.0, 65.0, 74.0, 40.0, 42.0, 36.0, 100.0, 45.0, 33.0, 43.0, 29.0, 27.0, 29.0, 40.0, 60.0, 37.0, 74.0, 40.0, 42.0, 60.0, 48.0, 35.0, 27.0, 45.0, 23.0, 60.0, 45.0, 45.0, 37.0, 85.0, 160.0, 63.0, 35.0, 90.0, 37.0, 38.0, 75.0, 70.0, 55.0, 59.0, 38.0, 22.0, 56.0, 44.0, 100.0, 48.0, 48.0, 28.0, 40.0, 45.0, 78.0, 42.0, 30.0, 38.0, 22.0, 30.0, 45.0, 70.0, 25.0, 50.0, 20.0, 44.0, 42.0, 150.0, 46.0, 50.0, 35.0, 80.0, 44.0, 35.0, 55.0, 50.0, 45.0, 30.0, 36.0, 42.0, 70.0, 46.0, 120.0, 49.5, 69.0, 69.0, 37.0, 80.0, 104.0, 108.0, 25.0, 44.0, 46.0, 78.0, 50.0, 70.0, 35.0, 55.0, 45.0, 55.0, 55.0, 44.0, 55.0, 31.0, 32.3, 45.0, 30.0, 60.0, 45.0, 58.0, 35.0, 85.0, 42.0, 35.0, 40.0, 79.0, 55.0, 40.0, 20.0, 45.0, 42.0, 55.0, 67.0, 45.0, 40.0, 37.0, 40.0, 25.0, 42.0, 60.0, 65.0, 160.0, 85.0, 120.0, 60.0, 30.0, 156.0, 34.0, 51.0, 35.0, 30.0, 33.0, 54.0, 49.0, 30.0, 25.0, 45.0, 33.0, 40.0, 36.0, 50.0, 35.0, 55.0, 35.0, 38.5, 64.0, 98.0, 30.0, 120.0, 33.0, 30.0, 76.0, 23.0, 68.0, 27.0, 80.0, 55.0, 40.0, 60.0, 62.0, 18.0, 39.0, 82.0, 39.0, 50.0, 130.0, 112.0, 30.0, 36.0, 60.0, 39.0, 37.0, 65.0, 40.0, 34.0, 80.0, 63.0, 77.0, 46.0, 87.0, 50.0, 51.0, 37.0, 46.0, 58.0, 45.0, 108.0, 108.0, 20.0, 35.0, 34.0, 80.0, 48.0, 76.0, 58.0, 44.0, 34.0, 34.0, 88.0, 115.0, 39.0, 33.0, 50.0, 22.0, 29.0, 40.0, 28.0, 43.0, 45.0, 32.0, 120.0, 40.0, 73.0, 50.0, 25.0, 135.0, 0.0, 40.0, 30.0, 32.0, 55.0, 0.0, 35.0, 38.0, 35.0, 42.0, 40.0, 48.0, 29.0, 130.0, 0.0, 52.0, 22.0, 22.0, 63.0, 110.0, 39.0, 38.0, 48.0, 125.0, 0.0, 46.0, 45.0, 65.0, 50.0, 80.0, 135.0, 60.0, 52.0, 29.0, 45.0, 42.8, 71.0, 184.0, 80.0, 49.0, 33.0, 24.0, 35.0, 25.0, 38.0, 63.0, 153.0, 40.0]}],\n",
              "                        {\"font\": {\"color\": \"#ffa100\"}, \"height\": 250, \"hoverlabel\": {\"bgcolor\": \"#364e59\", \"font\": {\"family\": \"verdana\", \"size\": 14}}, \"hovermode\": \"x\", \"margin\": {\"b\": 30, \"l\": 50, \"t\": 5}, \"paper_bgcolor\": \"#383838\", \"plot_bgcolor\": \"#364e59\", \"showlegend\": false, \"template\": {\"data\": {\"bar\": [{\"error_x\": {\"color\": \"#2a3f5f\"}, \"error_y\": {\"color\": \"#2a3f5f\"}, \"marker\": {\"line\": {\"color\": \"#E5ECF6\", \"width\": 0.5}}, \"type\": \"bar\"}], \"barpolar\": [{\"marker\": {\"line\": {\"color\": \"#E5ECF6\", \"width\": 0.5}}, \"type\": \"barpolar\"}], \"carpet\": [{\"aaxis\": {\"endlinecolor\": \"#2a3f5f\", \"gridcolor\": \"white\", \"linecolor\": \"white\", \"minorgridcolor\": \"white\", \"startlinecolor\": \"#2a3f5f\"}, \"baxis\": {\"endlinecolor\": \"#2a3f5f\", \"gridcolor\": \"white\", \"linecolor\": \"white\", \"minorgridcolor\": \"white\", \"startlinecolor\": \"#2a3f5f\"}, \"type\": \"carpet\"}], \"choropleth\": [{\"colorbar\": {\"outlinewidth\": 0, \"ticks\": \"\"}, \"type\": \"choropleth\"}], \"contour\": [{\"colorbar\": {\"outlinewidth\": 0, \"ticks\": \"\"}, \"colorscale\": [[0.0, \"#0d0887\"], [0.1111111111111111, \"#46039f\"], [0.2222222222222222, \"#7201a8\"], [0.3333333333333333, \"#9c179e\"], [0.4444444444444444, \"#bd3786\"], [0.5555555555555556, \"#d8576b\"], [0.6666666666666666, \"#ed7953\"], [0.7777777777777778, \"#fb9f3a\"], [0.8888888888888888, \"#fdca26\"], [1.0, \"#f0f921\"]], \"type\": \"contour\"}], \"contourcarpet\": [{\"colorbar\": {\"outlinewidth\": 0, \"ticks\": \"\"}, \"type\": \"contourcarpet\"}], \"heatmap\": [{\"colorbar\": {\"outlinewidth\": 0, \"ticks\": \"\"}, \"colorscale\": [[0.0, \"#0d0887\"], [0.1111111111111111, \"#46039f\"], [0.2222222222222222, \"#7201a8\"], [0.3333333333333333, \"#9c179e\"], [0.4444444444444444, \"#bd3786\"], [0.5555555555555556, \"#d8576b\"], [0.6666666666666666, \"#ed7953\"], [0.7777777777777778, \"#fb9f3a\"], [0.8888888888888888, \"#fdca26\"], [1.0, \"#f0f921\"]], \"type\": \"heatmap\"}], \"heatmapgl\": [{\"colorbar\": {\"outlinewidth\": 0, \"ticks\": \"\"}, \"colorscale\": [[0.0, \"#0d0887\"], [0.1111111111111111, \"#46039f\"], [0.2222222222222222, \"#7201a8\"], [0.3333333333333333, \"#9c179e\"], [0.4444444444444444, \"#bd3786\"], [0.5555555555555556, \"#d8576b\"], [0.6666666666666666, \"#ed7953\"], [0.7777777777777778, \"#fb9f3a\"], [0.8888888888888888, \"#fdca26\"], [1.0, \"#f0f921\"]], \"type\": \"heatmapgl\"}], \"histogram\": [{\"marker\": {\"colorbar\": {\"outlinewidth\": 0, \"ticks\": \"\"}}, \"type\": \"histogram\"}], \"histogram2d\": [{\"colorbar\": {\"outlinewidth\": 0, \"ticks\": \"\"}, \"colorscale\": [[0.0, \"#0d0887\"], [0.1111111111111111, \"#46039f\"], [0.2222222222222222, \"#7201a8\"], [0.3333333333333333, \"#9c179e\"], [0.4444444444444444, \"#bd3786\"], [0.5555555555555556, \"#d8576b\"], [0.6666666666666666, \"#ed7953\"], [0.7777777777777778, \"#fb9f3a\"], [0.8888888888888888, \"#fdca26\"], [1.0, \"#f0f921\"]], \"type\": \"histogram2d\"}], \"histogram2dcontour\": [{\"colorbar\": {\"outlinewidth\": 0, \"ticks\": \"\"}, \"colorscale\": [[0.0, \"#0d0887\"], [0.1111111111111111, \"#46039f\"], [0.2222222222222222, \"#7201a8\"], [0.3333333333333333, \"#9c179e\"], [0.4444444444444444, \"#bd3786\"], [0.5555555555555556, \"#d8576b\"], [0.6666666666666666, \"#ed7953\"], [0.7777777777777778, \"#fb9f3a\"], [0.8888888888888888, \"#fdca26\"], [1.0, \"#f0f921\"]], \"type\": \"histogram2dcontour\"}], \"mesh3d\": [{\"colorbar\": {\"outlinewidth\": 0, \"ticks\": \"\"}, \"type\": \"mesh3d\"}], \"parcoords\": [{\"line\": {\"colorbar\": {\"outlinewidth\": 0, \"ticks\": \"\"}}, \"type\": \"parcoords\"}], \"pie\": [{\"automargin\": true, \"type\": \"pie\"}], \"scatter\": [{\"marker\": {\"colorbar\": {\"outlinewidth\": 0, \"ticks\": \"\"}}, \"type\": \"scatter\"}], \"scatter3d\": [{\"line\": {\"colorbar\": {\"outlinewidth\": 0, \"ticks\": \"\"}}, \"marker\": {\"colorbar\": {\"outlinewidth\": 0, \"ticks\": \"\"}}, \"type\": \"scatter3d\"}], \"scattercarpet\": [{\"marker\": {\"colorbar\": {\"outlinewidth\": 0, \"ticks\": \"\"}}, \"type\": \"scattercarpet\"}], \"scattergeo\": [{\"marker\": {\"colorbar\": {\"outlinewidth\": 0, \"ticks\": \"\"}}, \"type\": \"scattergeo\"}], \"scattergl\": [{\"marker\": {\"colorbar\": {\"outlinewidth\": 0, \"ticks\": \"\"}}, \"type\": \"scattergl\"}], \"scattermapbox\": [{\"marker\": {\"colorbar\": {\"outlinewidth\": 0, \"ticks\": \"\"}}, \"type\": \"scattermapbox\"}], \"scatterpolar\": [{\"marker\": {\"colorbar\": {\"outlinewidth\": 0, \"ticks\": \"\"}}, \"type\": \"scatterpolar\"}], \"scatterpolargl\": [{\"marker\": {\"colorbar\": {\"outlinewidth\": 0, \"ticks\": \"\"}}, \"type\": \"scatterpolargl\"}], \"scatterternary\": [{\"marker\": {\"colorbar\": {\"outlinewidth\": 0, \"ticks\": \"\"}}, \"type\": \"scatterternary\"}], \"surface\": [{\"colorbar\": {\"outlinewidth\": 0, \"ticks\": \"\"}, \"colorscale\": [[0.0, \"#0d0887\"], [0.1111111111111111, \"#46039f\"], [0.2222222222222222, \"#7201a8\"], [0.3333333333333333, \"#9c179e\"], [0.4444444444444444, \"#bd3786\"], [0.5555555555555556, \"#d8576b\"], [0.6666666666666666, \"#ed7953\"], [0.7777777777777778, \"#fb9f3a\"], [0.8888888888888888, \"#fdca26\"], [1.0, \"#f0f921\"]], \"type\": \"surface\"}], \"table\": [{\"cells\": {\"fill\": {\"color\": \"#EBF0F8\"}, \"line\": {\"color\": \"white\"}}, \"header\": {\"fill\": {\"color\": \"#C8D4E3\"}, \"line\": {\"color\": \"white\"}}, \"type\": \"table\"}]}, \"layout\": {\"annotationdefaults\": {\"arrowcolor\": \"#2a3f5f\", \"arrowhead\": 0, \"arrowwidth\": 1}, \"coloraxis\": {\"colorbar\": {\"outlinewidth\": 0, \"ticks\": \"\"}}, \"colorscale\": {\"diverging\": [[0, \"#8e0152\"], [0.1, \"#c51b7d\"], [0.2, \"#de77ae\"], [0.3, \"#f1b6da\"], [0.4, \"#fde0ef\"], [0.5, \"#f7f7f7\"], [0.6, \"#e6f5d0\"], [0.7, \"#b8e186\"], [0.8, \"#7fbc41\"], [0.9, \"#4d9221\"], [1, \"#276419\"]], \"sequential\": [[0.0, \"#0d0887\"], [0.1111111111111111, \"#46039f\"], [0.2222222222222222, \"#7201a8\"], [0.3333333333333333, \"#9c179e\"], [0.4444444444444444, \"#bd3786\"], [0.5555555555555556, \"#d8576b\"], [0.6666666666666666, \"#ed7953\"], [0.7777777777777778, \"#fb9f3a\"], [0.8888888888888888, \"#fdca26\"], [1.0, \"#f0f921\"]], \"sequentialminus\": [[0.0, \"#0d0887\"], [0.1111111111111111, \"#46039f\"], [0.2222222222222222, \"#7201a8\"], [0.3333333333333333, \"#9c179e\"], [0.4444444444444444, \"#bd3786\"], [0.5555555555555556, \"#d8576b\"], [0.6666666666666666, \"#ed7953\"], [0.7777777777777778, \"#fb9f3a\"], [0.8888888888888888, \"#fdca26\"], [1.0, \"#f0f921\"]]}, \"colorway\": [\"#636efa\", \"#EF553B\", \"#00cc96\", \"#ab63fa\", \"#FFA15A\", \"#19d3f3\", \"#FF6692\", \"#B6E880\", \"#FF97FF\", \"#FECB52\"], \"font\": {\"color\": \"#2a3f5f\"}, \"geo\": {\"bgcolor\": \"white\", \"lakecolor\": \"white\", \"landcolor\": \"#E5ECF6\", \"showlakes\": true, \"showland\": true, \"subunitcolor\": \"white\"}, \"hoverlabel\": {\"align\": \"left\"}, \"hovermode\": \"closest\", \"mapbox\": {\"style\": \"light\"}, \"paper_bgcolor\": \"white\", \"plot_bgcolor\": \"#E5ECF6\", \"polar\": {\"angularaxis\": {\"gridcolor\": \"white\", \"linecolor\": \"white\", \"ticks\": \"\"}, \"bgcolor\": \"#E5ECF6\", \"radialaxis\": {\"gridcolor\": \"white\", \"linecolor\": \"white\", \"ticks\": \"\"}}, \"scene\": {\"xaxis\": {\"backgroundcolor\": \"#E5ECF6\", \"gridcolor\": \"white\", \"gridwidth\": 2, \"linecolor\": \"white\", \"showbackground\": true, \"ticks\": \"\", \"zerolinecolor\": \"white\"}, \"yaxis\": {\"backgroundcolor\": \"#E5ECF6\", \"gridcolor\": \"white\", \"gridwidth\": 2, \"linecolor\": \"white\", \"showbackground\": true, \"ticks\": \"\", \"zerolinecolor\": \"white\"}, \"zaxis\": {\"backgroundcolor\": \"#E5ECF6\", \"gridcolor\": \"white\", \"gridwidth\": 2, \"linecolor\": \"white\", \"showbackground\": true, \"ticks\": \"\", \"zerolinecolor\": \"white\"}}, \"shapedefaults\": {\"line\": {\"color\": \"#2a3f5f\"}}, \"ternary\": {\"aaxis\": {\"gridcolor\": \"white\", \"linecolor\": \"white\", \"ticks\": \"\"}, \"baxis\": {\"gridcolor\": \"white\", \"linecolor\": \"white\", \"ticks\": \"\"}, \"bgcolor\": \"#E5ECF6\", \"caxis\": {\"gridcolor\": \"white\", \"linecolor\": \"white\", \"ticks\": \"\"}}, \"title\": {\"x\": 0.05}, \"xaxis\": {\"automargin\": true, \"gridcolor\": \"white\", \"linecolor\": \"white\", \"ticks\": \"\", \"title\": {\"standoff\": 15}, \"zerolinecolor\": \"white\", \"zerolinewidth\": 2}, \"yaxis\": {\"automargin\": true, \"gridcolor\": \"white\", \"linecolor\": \"white\", \"ticks\": \"\", \"title\": {\"standoff\": 15}, \"zerolinecolor\": \"white\", \"zerolinewidth\": 2}}}, \"xaxis\": {\"gridcolor\": \"#2f2933\", \"zerolinecolor\": \"#2f2933\"}, \"yaxis\": {\"autorange\": true, \"dtick\": 5, \"gridcolor\": \"#2f2933\", \"gridwidth\": 1, \"showgrid\": true, \"zeroline\": true, \"zerolinecolor\": \"#2f2933\", \"zerolinewidth\": 4}},\n",
              "                        {\"responsive\": true}\n",
              "                    ).then(function(){\n",
              "                            \n",
              "var gd = document.getElementById('64133036-958f-4ed0-b846-281c331966d0');\n",
              "var x = new MutationObserver(function (mutations, observer) {{\n",
              "        var display = window.getComputedStyle(gd).display;\n",
              "        if (!display || display === 'none') {{\n",
              "            console.log([gd, 'removed!']);\n",
              "            Plotly.purge(gd);\n",
              "            observer.disconnect();\n",
              "        }}\n",
              "}});\n",
              "\n",
              "// Listen for the removal of the full notebook cells\n",
              "var notebookContainer = gd.closest('#notebook-container');\n",
              "if (notebookContainer) {{\n",
              "    x.observe(notebookContainer, {childList: true});\n",
              "}}\n",
              "\n",
              "// Listen for the clearing of the current output cell\n",
              "var outputEl = gd.closest('.output');\n",
              "if (outputEl) {{\n",
              "    x.observe(outputEl, {childList: true});\n",
              "}}\n",
              "\n",
              "                        })\n",
              "                };\n",
              "                \n",
              "            </script>\n",
              "        </div>\n",
              "</body>\n",
              "</html>"
            ]
          },
          "metadata": {
            "tags": []
          }
        },
        {
          "output_type": "stream",
          "text": [
            "Cantidad de departamentos en observacion: 412\n"
          ],
          "name": "stdout"
        }
      ]
    },
    {
      "cell_type": "markdown",
      "metadata": {
        "id": "Iy23UDRj3Glb",
        "colab_type": "text"
      },
      "source": [
        "# Entrenar modelo"
      ]
    },
    {
      "cell_type": "markdown",
      "metadata": {
        "colab_type": "text",
        "id": "d9Mxk0lreFx1"
      },
      "source": [
        "<center><img src=\"https://lh3.googleusercontent.com/pw/ACtC-3csSQnxbKYYltM7w3bryOXpVvhrxI8PZ-xHKtEleb8SiwPjx_vNiCIfYQUVVUtCUz5zyhyCGqCjj9mWlHcXqmSZpHL5lrQrCcnbg0tRQiWYmATPeAzVKVrQGCA22rH7R9QrQsOFjeXmw3z4a17k_GTn=w1366-h133-no?authuser=0\" width=\"1000\" align=\"center\"></center>"
      ]
    },
    {
      "cell_type": "code",
      "metadata": {
        "id": "eqG4MbJA3FuN",
        "colab_type": "code",
        "colab": {}
      },
      "source": [
        "# Calcular y visualizar le prediccion de costos por m2\n",
        "regr = linear_model.LinearRegression()\n",
        "#x = np.asanyarray(propiedades[['ambientes','m2']])\n",
        "x = np.asanyarray(propiedades[['m2']])\n",
        "y = np.asanyarray(propiedades['precio'])\n",
        "regr.fit(x, y)\n",
        "#y_hat= regr.predict(propiedades[['ambientes','m2']])\n",
        "y_hat= regr.predict(propiedades[['m2']])"
      ],
      "execution_count": null,
      "outputs": []
    },
    {
      "cell_type": "markdown",
      "metadata": {
        "id": "PKjLFcNu4w3e",
        "colab_type": "text"
      },
      "source": [
        "# Validar modelo"
      ]
    },
    {
      "cell_type": "markdown",
      "metadata": {
        "colab_type": "text",
        "id": "UgqhThp4eF6E"
      },
      "source": [
        "<center><img src=\"https://lh3.googleusercontent.com/pw/ACtC-3cak4pQwIT8LrDUfrv0XXdf9MfEDbCytI3Yttzzd8BG0AyqJ74FpFe5kVMZ0UoKguSjr3-_qKe1Qg2eWEk5YalKmtcwGFV5OS2CmmoVsEPIRpUZeg4SzIDrcQDRTGNP-9RPT4q1VVXrHtCdCZDYrfgW=w1366-h133-no?authuser=0\" width=\"1000\" align=\"center\"></center>"
      ]
    },
    {
      "cell_type": "code",
      "metadata": {
        "id": "qD3dDNhQ4vgT",
        "colab_type": "code",
        "colab": {
          "base_uri": "https://localhost:8080/",
          "height": 84
        },
        "outputId": "f96ed6e3-15de-4679-c335-3b7e173229a7"
      },
      "source": [
        "error_medio = np.mean(np.absolute((y_hat - y)/y))\n",
        "print(\"Error medio: %.2f\" % error_medio)\n",
        "gibioplot.plot_meter(error_medio,10)"
      ],
      "execution_count": null,
      "outputs": [
        {
          "output_type": "stream",
          "text": [
            "Error medio: 5.94\n"
          ],
          "name": "stdout"
        },
        {
          "output_type": "display_data",
          "data": {
            "text/html": [
              "<html>\n",
              "<head><meta charset=\"utf-8\" /></head>\n",
              "<body>\n",
              "    <div>\n",
              "            <script src=\"https://cdnjs.cloudflare.com/ajax/libs/mathjax/2.7.5/MathJax.js?config=TeX-AMS-MML_SVG\"></script><script type=\"text/javascript\">if (window.MathJax) {MathJax.Hub.Config({SVG: {font: \"STIX-Web\"}});}</script>\n",
              "                <script type=\"text/javascript\">window.PlotlyConfig = {MathJaxConfig: 'local'};</script>\n",
              "        <script src=\"https://cdn.plot.ly/plotly-latest.min.js\"></script>    \n",
              "            <div id=\"bd51cdf5-1b25-4369-82e4-a6dc63ceb31a\" class=\"plotly-graph-div\" style=\"height:50px; width:100%;\"></div>\n",
              "            <script type=\"text/javascript\">\n",
              "                \n",
              "                    window.PLOTLYENV=window.PLOTLYENV || {};\n",
              "                    \n",
              "                if (document.getElementById(\"bd51cdf5-1b25-4369-82e4-a6dc63ceb31a\")) {\n",
              "                    Plotly.newPlot(\n",
              "                        'bd51cdf5-1b25-4369-82e4-a6dc63ceb31a',\n",
              "                        [{\"align\": \"center\", \"delta\": {\"reference\": 10}, \"domain\": {\"x\": [0, 1], \"y\": [0, 1]}, \"gauge\": {\"bar\": {\"color\": \"#9ade00\"}, \"bgcolor\": \"#364e59\", \"shape\": \"bullet\"}, \"mode\": \"number+gauge+delta\", \"title\": {\"font\": {\"size\": 18}, \"text\": \"<b style = 'color: #ffa100;'>Error medio</b>\"}, \"type\": \"indicator\", \"value\": 5.938511636156827}],\n",
              "                        {\"font\": {\"color\": \"#ffa100\"}, \"height\": 50, \"margin\": {\"b\": 0, \"l\": 150, \"t\": 0}, \"paper_bgcolor\": \"#383838\", \"template\": {\"data\": {\"bar\": [{\"error_x\": {\"color\": \"#2a3f5f\"}, \"error_y\": {\"color\": \"#2a3f5f\"}, \"marker\": {\"line\": {\"color\": \"#E5ECF6\", \"width\": 0.5}}, \"type\": \"bar\"}], \"barpolar\": [{\"marker\": {\"line\": {\"color\": \"#E5ECF6\", \"width\": 0.5}}, \"type\": \"barpolar\"}], \"carpet\": [{\"aaxis\": {\"endlinecolor\": \"#2a3f5f\", \"gridcolor\": \"white\", \"linecolor\": \"white\", \"minorgridcolor\": \"white\", \"startlinecolor\": \"#2a3f5f\"}, \"baxis\": {\"endlinecolor\": \"#2a3f5f\", \"gridcolor\": \"white\", \"linecolor\": \"white\", \"minorgridcolor\": \"white\", \"startlinecolor\": \"#2a3f5f\"}, \"type\": \"carpet\"}], \"choropleth\": [{\"colorbar\": {\"outlinewidth\": 0, \"ticks\": \"\"}, \"type\": \"choropleth\"}], \"contour\": [{\"colorbar\": {\"outlinewidth\": 0, \"ticks\": \"\"}, \"colorscale\": [[0.0, \"#0d0887\"], [0.1111111111111111, \"#46039f\"], [0.2222222222222222, \"#7201a8\"], [0.3333333333333333, \"#9c179e\"], [0.4444444444444444, \"#bd3786\"], [0.5555555555555556, \"#d8576b\"], [0.6666666666666666, \"#ed7953\"], [0.7777777777777778, \"#fb9f3a\"], [0.8888888888888888, \"#fdca26\"], [1.0, \"#f0f921\"]], \"type\": \"contour\"}], \"contourcarpet\": [{\"colorbar\": {\"outlinewidth\": 0, \"ticks\": \"\"}, \"type\": \"contourcarpet\"}], \"heatmap\": [{\"colorbar\": {\"outlinewidth\": 0, \"ticks\": \"\"}, \"colorscale\": [[0.0, \"#0d0887\"], [0.1111111111111111, \"#46039f\"], [0.2222222222222222, \"#7201a8\"], [0.3333333333333333, \"#9c179e\"], [0.4444444444444444, \"#bd3786\"], [0.5555555555555556, \"#d8576b\"], [0.6666666666666666, \"#ed7953\"], [0.7777777777777778, \"#fb9f3a\"], [0.8888888888888888, \"#fdca26\"], [1.0, \"#f0f921\"]], \"type\": \"heatmap\"}], \"heatmapgl\": [{\"colorbar\": {\"outlinewidth\": 0, \"ticks\": \"\"}, \"colorscale\": [[0.0, \"#0d0887\"], [0.1111111111111111, \"#46039f\"], [0.2222222222222222, \"#7201a8\"], [0.3333333333333333, \"#9c179e\"], [0.4444444444444444, \"#bd3786\"], [0.5555555555555556, \"#d8576b\"], [0.6666666666666666, \"#ed7953\"], [0.7777777777777778, \"#fb9f3a\"], [0.8888888888888888, \"#fdca26\"], [1.0, \"#f0f921\"]], \"type\": \"heatmapgl\"}], \"histogram\": [{\"marker\": {\"colorbar\": {\"outlinewidth\": 0, \"ticks\": \"\"}}, \"type\": \"histogram\"}], \"histogram2d\": [{\"colorbar\": {\"outlinewidth\": 0, \"ticks\": \"\"}, \"colorscale\": [[0.0, \"#0d0887\"], [0.1111111111111111, \"#46039f\"], [0.2222222222222222, \"#7201a8\"], [0.3333333333333333, \"#9c179e\"], [0.4444444444444444, \"#bd3786\"], [0.5555555555555556, \"#d8576b\"], [0.6666666666666666, \"#ed7953\"], [0.7777777777777778, \"#fb9f3a\"], [0.8888888888888888, \"#fdca26\"], [1.0, \"#f0f921\"]], \"type\": \"histogram2d\"}], \"histogram2dcontour\": [{\"colorbar\": {\"outlinewidth\": 0, \"ticks\": \"\"}, \"colorscale\": [[0.0, \"#0d0887\"], [0.1111111111111111, \"#46039f\"], [0.2222222222222222, \"#7201a8\"], [0.3333333333333333, \"#9c179e\"], [0.4444444444444444, \"#bd3786\"], [0.5555555555555556, \"#d8576b\"], [0.6666666666666666, \"#ed7953\"], [0.7777777777777778, \"#fb9f3a\"], [0.8888888888888888, \"#fdca26\"], [1.0, \"#f0f921\"]], \"type\": \"histogram2dcontour\"}], \"mesh3d\": [{\"colorbar\": {\"outlinewidth\": 0, \"ticks\": \"\"}, \"type\": \"mesh3d\"}], \"parcoords\": [{\"line\": {\"colorbar\": {\"outlinewidth\": 0, \"ticks\": \"\"}}, \"type\": \"parcoords\"}], \"pie\": [{\"automargin\": true, \"type\": \"pie\"}], \"scatter\": [{\"marker\": {\"colorbar\": {\"outlinewidth\": 0, \"ticks\": \"\"}}, \"type\": \"scatter\"}], \"scatter3d\": [{\"line\": {\"colorbar\": {\"outlinewidth\": 0, \"ticks\": \"\"}}, \"marker\": {\"colorbar\": {\"outlinewidth\": 0, \"ticks\": \"\"}}, \"type\": \"scatter3d\"}], \"scattercarpet\": [{\"marker\": {\"colorbar\": {\"outlinewidth\": 0, \"ticks\": \"\"}}, \"type\": \"scattercarpet\"}], \"scattergeo\": [{\"marker\": {\"colorbar\": {\"outlinewidth\": 0, \"ticks\": \"\"}}, \"type\": \"scattergeo\"}], \"scattergl\": [{\"marker\": {\"colorbar\": {\"outlinewidth\": 0, \"ticks\": \"\"}}, \"type\": \"scattergl\"}], \"scattermapbox\": [{\"marker\": {\"colorbar\": {\"outlinewidth\": 0, \"ticks\": \"\"}}, \"type\": \"scattermapbox\"}], \"scatterpolar\": [{\"marker\": {\"colorbar\": {\"outlinewidth\": 0, \"ticks\": \"\"}}, \"type\": \"scatterpolar\"}], \"scatterpolargl\": [{\"marker\": {\"colorbar\": {\"outlinewidth\": 0, \"ticks\": \"\"}}, \"type\": \"scatterpolargl\"}], \"scatterternary\": [{\"marker\": {\"colorbar\": {\"outlinewidth\": 0, \"ticks\": \"\"}}, \"type\": \"scatterternary\"}], \"surface\": [{\"colorbar\": {\"outlinewidth\": 0, \"ticks\": \"\"}, \"colorscale\": [[0.0, \"#0d0887\"], [0.1111111111111111, \"#46039f\"], [0.2222222222222222, \"#7201a8\"], [0.3333333333333333, \"#9c179e\"], [0.4444444444444444, \"#bd3786\"], [0.5555555555555556, \"#d8576b\"], [0.6666666666666666, \"#ed7953\"], [0.7777777777777778, \"#fb9f3a\"], [0.8888888888888888, \"#fdca26\"], [1.0, \"#f0f921\"]], \"type\": \"surface\"}], \"table\": [{\"cells\": {\"fill\": {\"color\": \"#EBF0F8\"}, \"line\": {\"color\": \"white\"}}, \"header\": {\"fill\": {\"color\": \"#C8D4E3\"}, \"line\": {\"color\": \"white\"}}, \"type\": \"table\"}]}, \"layout\": {\"annotationdefaults\": {\"arrowcolor\": \"#2a3f5f\", \"arrowhead\": 0, \"arrowwidth\": 1}, \"coloraxis\": {\"colorbar\": {\"outlinewidth\": 0, \"ticks\": \"\"}}, \"colorscale\": {\"diverging\": [[0, \"#8e0152\"], [0.1, \"#c51b7d\"], [0.2, \"#de77ae\"], [0.3, \"#f1b6da\"], [0.4, \"#fde0ef\"], [0.5, \"#f7f7f7\"], [0.6, \"#e6f5d0\"], [0.7, \"#b8e186\"], [0.8, \"#7fbc41\"], [0.9, \"#4d9221\"], [1, \"#276419\"]], \"sequential\": [[0.0, \"#0d0887\"], [0.1111111111111111, \"#46039f\"], [0.2222222222222222, \"#7201a8\"], [0.3333333333333333, \"#9c179e\"], [0.4444444444444444, \"#bd3786\"], [0.5555555555555556, \"#d8576b\"], [0.6666666666666666, \"#ed7953\"], [0.7777777777777778, \"#fb9f3a\"], [0.8888888888888888, \"#fdca26\"], [1.0, \"#f0f921\"]], \"sequentialminus\": [[0.0, \"#0d0887\"], [0.1111111111111111, \"#46039f\"], [0.2222222222222222, \"#7201a8\"], [0.3333333333333333, \"#9c179e\"], [0.4444444444444444, \"#bd3786\"], [0.5555555555555556, \"#d8576b\"], [0.6666666666666666, \"#ed7953\"], [0.7777777777777778, \"#fb9f3a\"], [0.8888888888888888, \"#fdca26\"], [1.0, \"#f0f921\"]]}, \"colorway\": [\"#636efa\", \"#EF553B\", \"#00cc96\", \"#ab63fa\", \"#FFA15A\", \"#19d3f3\", \"#FF6692\", \"#B6E880\", \"#FF97FF\", \"#FECB52\"], \"font\": {\"color\": \"#2a3f5f\"}, \"geo\": {\"bgcolor\": \"white\", \"lakecolor\": \"white\", \"landcolor\": \"#E5ECF6\", \"showlakes\": true, \"showland\": true, \"subunitcolor\": \"white\"}, \"hoverlabel\": {\"align\": \"left\"}, \"hovermode\": \"closest\", \"mapbox\": {\"style\": \"light\"}, \"paper_bgcolor\": \"white\", \"plot_bgcolor\": \"#E5ECF6\", \"polar\": {\"angularaxis\": {\"gridcolor\": \"white\", \"linecolor\": \"white\", \"ticks\": \"\"}, \"bgcolor\": \"#E5ECF6\", \"radialaxis\": {\"gridcolor\": \"white\", \"linecolor\": \"white\", \"ticks\": \"\"}}, \"scene\": {\"xaxis\": {\"backgroundcolor\": \"#E5ECF6\", \"gridcolor\": \"white\", \"gridwidth\": 2, \"linecolor\": \"white\", \"showbackground\": true, \"ticks\": \"\", \"zerolinecolor\": \"white\"}, \"yaxis\": {\"backgroundcolor\": \"#E5ECF6\", \"gridcolor\": \"white\", \"gridwidth\": 2, \"linecolor\": \"white\", \"showbackground\": true, \"ticks\": \"\", \"zerolinecolor\": \"white\"}, \"zaxis\": {\"backgroundcolor\": \"#E5ECF6\", \"gridcolor\": \"white\", \"gridwidth\": 2, \"linecolor\": \"white\", \"showbackground\": true, \"ticks\": \"\", \"zerolinecolor\": \"white\"}}, \"shapedefaults\": {\"line\": {\"color\": \"#2a3f5f\"}}, \"ternary\": {\"aaxis\": {\"gridcolor\": \"white\", \"linecolor\": \"white\", \"ticks\": \"\"}, \"baxis\": {\"gridcolor\": \"white\", \"linecolor\": \"white\", \"ticks\": \"\"}, \"bgcolor\": \"#E5ECF6\", \"caxis\": {\"gridcolor\": \"white\", \"linecolor\": \"white\", \"ticks\": \"\"}}, \"title\": {\"x\": 0.05}, \"xaxis\": {\"automargin\": true, \"gridcolor\": \"white\", \"linecolor\": \"white\", \"ticks\": \"\", \"title\": {\"standoff\": 15}, \"zerolinecolor\": \"white\", \"zerolinewidth\": 2}, \"yaxis\": {\"automargin\": true, \"gridcolor\": \"white\", \"linecolor\": \"white\", \"ticks\": \"\", \"title\": {\"standoff\": 15}, \"zerolinecolor\": \"white\", \"zerolinewidth\": 2}}}},\n",
              "                        {\"responsive\": true}\n",
              "                    ).then(function(){\n",
              "                            \n",
              "var gd = document.getElementById('bd51cdf5-1b25-4369-82e4-a6dc63ceb31a');\n",
              "var x = new MutationObserver(function (mutations, observer) {{\n",
              "        var display = window.getComputedStyle(gd).display;\n",
              "        if (!display || display === 'none') {{\n",
              "            console.log([gd, 'removed!']);\n",
              "            Plotly.purge(gd);\n",
              "            observer.disconnect();\n",
              "        }}\n",
              "}});\n",
              "\n",
              "// Listen for the removal of the full notebook cells\n",
              "var notebookContainer = gd.closest('#notebook-container');\n",
              "if (notebookContainer) {{\n",
              "    x.observe(notebookContainer, {childList: true});\n",
              "}}\n",
              "\n",
              "// Listen for the clearing of the current output cell\n",
              "var outputEl = gd.closest('.output');\n",
              "if (outputEl) {{\n",
              "    x.observe(outputEl, {childList: true});\n",
              "}}\n",
              "\n",
              "                        })\n",
              "                };\n",
              "                \n",
              "            </script>\n",
              "        </div>\n",
              "</body>\n",
              "</html>"
            ]
          },
          "metadata": {
            "tags": []
          }
        }
      ]
    },
    {
      "cell_type": "markdown",
      "metadata": {
        "id": "dNtEyXQb3Qqs",
        "colab_type": "text"
      },
      "source": [
        "# Utilizar modelo"
      ]
    },
    {
      "cell_type": "markdown",
      "metadata": {
        "colab_type": "text",
        "id": "xNHrnJFueGBB"
      },
      "source": [
        "<div align=\"center\"><img src=\"https://lh3.googleusercontent.com/pw/ACtC-3cCImYtu1CcKuITmTpV7hyJmrEt_8ADIqZiqlksAyNwCvcwR8sDZLQl54gmo4sobCgb3vpuzjWAFDkBh6cT33oBYTMJMyltD25Q8einZ37Gx_9gsCLI50iBX1wo3fz5c0BaedWiyJs3MdHotbxnkSjg=w1366-h133-no?authuser=0\" width=\"1000\" align=\"middle\"\n",
        "></div>"
      ]
    },
    {
      "cell_type": "code",
      "metadata": {
        "id": "XJBe3eY5zZA3",
        "colab_type": "code",
        "colab": {
          "base_uri": "https://localhost:8080/",
          "height": 580
        },
        "outputId": "1f5437e1-e10a-4422-b366-522045a1213f"
      },
      "source": [
        "gibioplot.plot_dot_line(propiedades['m2'],propiedades['precio'],y_hat)"
      ],
      "execution_count": null,
      "outputs": [
        {
          "output_type": "display_data",
          "data": {
            "image/png": "[encoded data removed]",
            "text/plain": [
              "<Figure size 1152x648 with 1 Axes>"
            ]
          },
          "metadata": {
            "tags": [],
            "needs_background": "dark"
          }
        }
      ]
    },
    {
      "cell_type": "markdown",
      "metadata": {
        "colab_type": "text",
        "id": "8OZye4mKp8th"
      },
      "source": [
        "<center><img src=\"https://lh3.googleusercontent.com/pw/ACtC-3c0b9wdQXhFVvYu-h9-AsPEg621I8En-CINRW5eJhYJweohC0gQ-8j-ZftxoZ6TXZWQbFRoLxNCH_xLHjnEEUMMKg9k72CQU8Zyd2if6CFBPWV_8umCQXI543v6o1cOhk5001p-pKe8wIOb2eSa2KN7=w1366-h133-no?authuser=0\" width=\"1000\" align=\"center\"></center>"
      ]
    }
  ]
}