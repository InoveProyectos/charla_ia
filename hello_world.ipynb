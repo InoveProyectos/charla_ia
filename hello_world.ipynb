{
  "nbformat": 4,
  "nbformat_minor": 0,
  "metadata": {
    "colab": {
      "name": "hello_world.ipynb",
      "provenance": [],
      "collapsed_sections": []
    },
    "kernelspec": {
      "name": "python3",
      "display_name": "Python 3"
    }
  },
  "cells": [
    {
      "cell_type": "markdown",
      "metadata": {
        "id": "sBRDyHtd0HFb",
        "colab_type": "text"
      },
      "source": [
        "<a href=\"https://www.inove.com.ar\"><img src=\"https://lh3.googleusercontent.com/pw/ACtC-3ekLfw0AsoodcZkIONBznVKnsM7SsYW-qx66kYaiTAsZ5TZ0_lNLxuRqJWiuuL6j0UwjKa_ArO89y74bcX0GARWYhJMA04Soox_OYmNOohb9_NE2zwAYK7KMOtAj8tDowysed7ergBwBThxGU2epAm8=w1366-h239-no?authuser=0\" width=\"1000\" align=\"center\"></a>\n",
        "<h1><center>Hello world!</center></h1>\n",
        "<h4>Sobre este ejemplo</h4>\n",
        "En este ejemplo se ejemplifica como resolver cuanto vale el valor de las propiedades de una determinada zona utilizando machine linearning."
      ]
    },
    {
      "cell_type": "code",
      "metadata": {
        "id": "hckP1HKyvbph",
        "colab_type": "code",
        "colab": {
          "base_uri": "https://localhost:8080/",
          "height": 222
        },
        "outputId": "51e5b5ad-c282-49cc-9795-56c532efbd7b"
      },
      "source": [
        "# Instalamos dependencias\n",
        "!pip install -U kaleido\n",
        "import shutil\n",
        "try:\n",
        "  f = open(\"/content/gibioplot/gibioplot.py\")\n",
        "except:\n",
        "  !git clone https://github.com/HectorInove/gibioplot.git\n",
        "try:\n",
        "  shutil.copy(\"/content/gibioplot/gibioplot.py\", \"/content/gibioplot.py\")\n",
        "except:\n",
        "  pass"
      ],
      "execution_count": 1,
      "outputs": [
        {
          "output_type": "stream",
          "text": [
            "Collecting kaleido\n",
            "\u001b[?25l  Downloading https://files.pythonhosted.org/packages/7c/26/cc562909fe6838ee3a98c0b2f83e79cbe2dbea8cddb7f3445fd347253d8e/kaleido-0.0.3.post1-py2.py3-none-manylinux1_x86_64.whl (74.0MB)\n",
            "\u001b[K     |████████████████████████████████| 74.0MB 76kB/s \n",
            "\u001b[?25hInstalling collected packages: kaleido\n",
            "Successfully installed kaleido-0.0.3.post1\n",
            "Cloning into 'gibioplot'...\n",
            "remote: Enumerating objects: 9, done.\u001b[K\n",
            "remote: Counting objects: 100% (9/9), done.\u001b[K\n",
            "remote: Compressing objects: 100% (7/7), done.\u001b[K\n",
            "remote: Total 9 (delta 1), reused 0 (delta 0), pack-reused 0\u001b[K\n",
            "Unpacking objects: 100% (9/9), done.\n"
          ],
          "name": "stdout"
        }
      ]
    },
    {
      "cell_type": "code",
      "metadata": {
        "id": "_bfqiMR02qeg",
        "colab_type": "code",
        "colab": {
          "base_uri": "https://localhost:8080/",
          "height": 70
        },
        "outputId": "6e256c67-57af-454d-9e5e-7a95b57aa2f9"
      },
      "source": [
        "# Importamos librerías\n",
        "import numpy as np\n",
        "import matplotlib as mpl\n",
        "import matplotlib.pyplot as plt\n",
        "import pandas as pd\n",
        "import seaborn as sns\n",
        "import gibioplot\n",
        "from sklearn import linear_model\n",
        "%matplotlib inline\n",
        "\n",
        "# Flagg para renderizado de imágenes,\n",
        "# True para renderizar como imagenes.png\n",
        "# False para imagen interactiva\n",
        "\n",
        "PNG_RENDER = True"
      ],
      "execution_count": 2,
      "outputs": [
        {
          "output_type": "stream",
          "text": [
            "/usr/local/lib/python3.6/dist-packages/statsmodels/tools/_testing.py:19: FutureWarning: pandas.util.testing is deprecated. Use the functions in the public API at pandas.testing instead.\n",
            "  import pandas.util.testing as tm\n"
          ],
          "name": "stderr"
        }
      ]
    },
    {
      "cell_type": "markdown",
      "metadata": {
        "colab_type": "text",
        "id": "IaFL8vvRt4E2"
      },
      "source": [
        "# Recolectar datos"
      ]
    },
    {
      "cell_type": "markdown",
      "metadata": {
        "id": "whB9KdhZdI2g",
        "colab_type": "text"
      },
      "source": [
        "<div align=\"center\"><img src=\"https://lh3.googleusercontent.com/pw/ACtC-3dp4dMGFr2D00UyD0240fBNyrzptD5onOf1wkHioTvEo-RpDmNEP61ssGPS4IiSKtDEwUHaU8krqeFZi3mjkiQDE72dtJy9zxptu48TYzfnbQp-O1WFZ0LFaXDG-jIz01IQyw2fZJzEFhnk_zK-glgP=w1366-h133-no?authuser=0\" width=\"1000\" align=\"middle\"></div>\n",
        "Descargamos el dataset de alquiler de departamentos"
      ]
    },
    {
      "cell_type": "code",
      "metadata": {
        "id": "_C6WfGlt06Jp",
        "colab_type": "code",
        "colab": {
          "base_uri": "https://localhost:8080/",
          "height": 202
        },
        "outputId": "48fb4782-f9d7-4e26-d201-d2a78c43b1b1"
      },
      "source": [
        "#!wget -O propiedades.csv http://inove.pythonanywhere.com/alquileres/buscar?ubicacion=Mendoza\n",
        "!wget -O propiedades.csv http://inove.pythonanywhere.com/alquileres/buscar?ubicacion=Capital%20Federal"
      ],
      "execution_count": 3,
      "outputs": [
        {
          "output_type": "stream",
          "text": [
            "--2020-09-25 00:28:46--  http://inove.pythonanywhere.com/alquileres/buscar?ubicacion=Capital%20Federal\n",
            "Resolving inove.pythonanywhere.com (inove.pythonanywhere.com)... 35.173.69.207\n",
            "Connecting to inove.pythonanywhere.com (inove.pythonanywhere.com)|35.173.69.207|:80... connected.\n",
            "HTTP request sent, awaiting response... 200 OK\n",
            "Length: 111364 (109K) [text/csv]\n",
            "Saving to: ‘propiedades.csv’\n",
            "\n",
            "propiedades.csv     100%[===================>] 108.75K   205KB/s    in 0.5s    \n",
            "\n",
            "2020-09-25 00:29:01 (205 KB/s) - ‘propiedades.csv’ saved [111364/111364]\n",
            "\n"
          ],
          "name": "stdout"
        }
      ]
    },
    {
      "cell_type": "markdown",
      "metadata": {
        "colab_type": "text",
        "id": "kClARSPht0yw"
      },
      "source": [
        "# Procesar datos"
      ]
    },
    {
      "cell_type": "markdown",
      "metadata": {
        "colab_type": "text",
        "id": "wMIjKep9eFTA"
      },
      "source": [
        "<div align=\"center\"><img src=\"https://lh3.googleusercontent.com/pw/ACtC-3ecH_bbd3CY23v8dqfIsuoE1FT7dDeRqxlG4Ti4RzKkOqAHMTD8ukvX7wx_G2PkKFQjNeoGGtL3xoqhCqfKCSdk1lE_2FuTiQaV2jDy3_fZeVbBxgEhtVwGnoLhBfQyb36KZxHPn0puUpJV825MBkQJ=w1366-h133-no?authuser=0\" width=\"1000\" align=\"middle\"></div>"
      ]
    },
    {
      "cell_type": "code",
      "metadata": {
        "id": "xEjAFQMv2Jve",
        "colab_type": "code",
        "colab": {
          "base_uri": "https://localhost:8080/",
          "height": 343
        },
        "outputId": "d7a3d915-e276-4104-9bbf-8d1fae642d7d"
      },
      "source": [
        "df = pd.read_csv(\"propiedades.csv\")\n",
        "des = df.describe()\n",
        "des.loc['Nan'] = df.isnull().sum()\n",
        "des.loc['%Nan'] = (df.isnull().mean())*100\n",
        "des"
      ],
      "execution_count": 4,
      "outputs": [
        {
          "output_type": "execute_result",
          "data": {
            "text/html": [
              "<div>\n",
              "<style scoped>\n",
              "    .dataframe tbody tr th:only-of-type {\n",
              "        vertical-align: middle;\n",
              "    }\n",
              "\n",
              "    .dataframe tbody tr th {\n",
              "        vertical-align: top;\n",
              "    }\n",
              "\n",
              "    .dataframe thead th {\n",
              "        text-align: right;\n",
              "    }\n",
              "</style>\n",
              "<table border=\"1\" class=\"dataframe\">\n",
              "  <thead>\n",
              "    <tr style=\"text-align: right;\">\n",
              "      <th></th>\n",
              "      <th>Unnamed: 0</th>\n",
              "      <th>latitud</th>\n",
              "      <th>longitud</th>\n",
              "      <th>precio</th>\n",
              "      <th>m2</th>\n",
              "      <th>ambientes</th>\n",
              "    </tr>\n",
              "  </thead>\n",
              "  <tbody>\n",
              "    <tr>\n",
              "      <th>count</th>\n",
              "      <td>500.000000</td>\n",
              "      <td>500.000000</td>\n",
              "      <td>500.000000</td>\n",
              "      <td>500.000000</td>\n",
              "      <td>498.000000</td>\n",
              "      <td>496.000000</td>\n",
              "    </tr>\n",
              "    <tr>\n",
              "      <th>mean</th>\n",
              "      <td>249.500000</td>\n",
              "      <td>-34.436349</td>\n",
              "      <td>-58.350430</td>\n",
              "      <td>34845.114000</td>\n",
              "      <td>67.702871</td>\n",
              "      <td>2.147177</td>\n",
              "    </tr>\n",
              "    <tr>\n",
              "      <th>std</th>\n",
              "      <td>144.481833</td>\n",
              "      <td>3.686153</td>\n",
              "      <td>3.511219</td>\n",
              "      <td>47535.753817</td>\n",
              "      <td>67.764244</td>\n",
              "      <td>1.529677</td>\n",
              "    </tr>\n",
              "    <tr>\n",
              "      <th>min</th>\n",
              "      <td>0.000000</td>\n",
              "      <td>-38.001750</td>\n",
              "      <td>-120.740135</td>\n",
              "      <td>27.000000</td>\n",
              "      <td>0.000000</td>\n",
              "      <td>0.000000</td>\n",
              "    </tr>\n",
              "    <tr>\n",
              "      <th>25%</th>\n",
              "      <td>124.750000</td>\n",
              "      <td>-34.605990</td>\n",
              "      <td>-58.439109</td>\n",
              "      <td>3475.000000</td>\n",
              "      <td>35.000000</td>\n",
              "      <td>1.000000</td>\n",
              "    </tr>\n",
              "    <tr>\n",
              "      <th>50%</th>\n",
              "      <td>249.500000</td>\n",
              "      <td>-34.594786</td>\n",
              "      <td>-58.416721</td>\n",
              "      <td>25000.000000</td>\n",
              "      <td>45.500000</td>\n",
              "      <td>2.000000</td>\n",
              "    </tr>\n",
              "    <tr>\n",
              "      <th>75%</th>\n",
              "      <td>374.250000</td>\n",
              "      <td>-34.580576</td>\n",
              "      <td>-58.392528</td>\n",
              "      <td>40000.000000</td>\n",
              "      <td>71.750000</td>\n",
              "      <td>3.000000</td>\n",
              "    </tr>\n",
              "    <tr>\n",
              "      <th>max</th>\n",
              "      <td>499.000000</td>\n",
              "      <td>47.751076</td>\n",
              "      <td>-34.588875</td>\n",
              "      <td>450000.000000</td>\n",
              "      <td>700.000000</td>\n",
              "      <td>18.000000</td>\n",
              "    </tr>\n",
              "    <tr>\n",
              "      <th>Nan</th>\n",
              "      <td>0.000000</td>\n",
              "      <td>0.000000</td>\n",
              "      <td>0.000000</td>\n",
              "      <td>0.000000</td>\n",
              "      <td>2.000000</td>\n",
              "      <td>4.000000</td>\n",
              "    </tr>\n",
              "    <tr>\n",
              "      <th>%Nan</th>\n",
              "      <td>0.000000</td>\n",
              "      <td>0.000000</td>\n",
              "      <td>0.000000</td>\n",
              "      <td>0.000000</td>\n",
              "      <td>0.400000</td>\n",
              "      <td>0.800000</td>\n",
              "    </tr>\n",
              "  </tbody>\n",
              "</table>\n",
              "</div>"
            ],
            "text/plain": [
              "       Unnamed: 0     latitud  ...          m2   ambientes\n",
              "count  500.000000  500.000000  ...  498.000000  496.000000\n",
              "mean   249.500000  -34.436349  ...   67.702871    2.147177\n",
              "std    144.481833    3.686153  ...   67.764244    1.529677\n",
              "min      0.000000  -38.001750  ...    0.000000    0.000000\n",
              "25%    124.750000  -34.605990  ...   35.000000    1.000000\n",
              "50%    249.500000  -34.594786  ...   45.500000    2.000000\n",
              "75%    374.250000  -34.580576  ...   71.750000    3.000000\n",
              "max    499.000000   47.751076  ...  700.000000   18.000000\n",
              "Nan      0.000000    0.000000  ...    2.000000    4.000000\n",
              "%Nan     0.000000    0.000000  ...    0.400000    0.800000\n",
              "\n",
              "[10 rows x 6 columns]"
            ]
          },
          "metadata": {
            "tags": []
          },
          "execution_count": 4
        }
      ]
    },
    {
      "cell_type": "code",
      "metadata": {
        "id": "eD6vlk0b1DTz",
        "colab_type": "code",
        "colab": {}
      },
      "source": [
        "# Sacamos todas las filas de la tabla las cuales el campo \"m2\" o \"ambientes\" se encuentre vacio\n",
        "df_clean = df[df['m2'].notna()]\n",
        "df_clean = df_clean[df_clean['ambientes'].notna()]"
      ],
      "execution_count": 5,
      "outputs": []
    },
    {
      "cell_type": "markdown",
      "metadata": {
        "id": "BoxU1u4F2IBr",
        "colab_type": "text"
      },
      "source": [
        "# Explorar datos"
      ]
    },
    {
      "cell_type": "markdown",
      "metadata": {
        "colab_type": "text",
        "id": "1STj67AueFmF"
      },
      "source": [
        "<div align=\"center\"><img src=\"https://lh3.googleusercontent.com/pw/ACtC-3ePJ3-PFgVLwddhdqRi7z7VRo8j3r6LBSRPzWNek5805rJeEdWJKIbAKGj133aGArHgu1oe8-IDj9ET8FtAW0R5GrUOcPzgG0nnUFhfIRyug0VQ_2DwNB_zmMuReBy60ExzOQprBc8us4HlthdvRtx6=w1366-h133-no?authuser=0\" width=\"1000\" align=\"middle\"></div>\n",
        "\n",
        "> Bloc con sangría\n",
        "\n"
      ]
    },
    {
      "cell_type": "code",
      "metadata": {
        "id": "4lShOcNu6ZP4",
        "colab_type": "code",
        "colab": {
          "base_uri": "https://localhost:8080/",
          "height": 534
        },
        "outputId": "e88889c0-1116-413b-bc9c-3cda78e8b52b"
      },
      "source": [
        "print('Cantidad de departamentos en observacion:', df_clean.shape[0])\n",
        "df_clean.head()"
      ],
      "execution_count": 6,
      "outputs": [
        {
          "output_type": "stream",
          "text": [
            "Cantidad de departamentos en observacion: 496\n"
          ],
          "name": "stdout"
        },
        {
          "output_type": "execute_result",
          "data": {
            "text/html": [
              "<div>\n",
              "<style scoped>\n",
              "    .dataframe tbody tr th:only-of-type {\n",
              "        vertical-align: middle;\n",
              "    }\n",
              "\n",
              "    .dataframe tbody tr th {\n",
              "        vertical-align: top;\n",
              "    }\n",
              "\n",
              "    .dataframe thead th {\n",
              "        text-align: right;\n",
              "    }\n",
              "</style>\n",
              "<table border=\"1\" class=\"dataframe\">\n",
              "  <thead>\n",
              "    <tr style=\"text-align: right;\">\n",
              "      <th></th>\n",
              "      <th>Unnamed: 0</th>\n",
              "      <th>fecha</th>\n",
              "      <th>latitud</th>\n",
              "      <th>longitud</th>\n",
              "      <th>url</th>\n",
              "      <th>titulo</th>\n",
              "      <th>tipo_propiedad</th>\n",
              "      <th>precio</th>\n",
              "      <th>moneda</th>\n",
              "      <th>m2</th>\n",
              "      <th>ambientes</th>\n",
              "    </tr>\n",
              "  </thead>\n",
              "  <tbody>\n",
              "    <tr>\n",
              "      <th>0</th>\n",
              "      <td>0</td>\n",
              "      <td>2020_09_25</td>\n",
              "      <td>-34.611270</td>\n",
              "      <td>-58.363780</td>\n",
              "      <td>https://departamento.mercadolibre.com.ar/MLA-7...</td>\n",
              "      <td>Departamento-alquiler - Puerto Madero-situar</td>\n",
              "      <td>Departamento</td>\n",
              "      <td>2900.0</td>\n",
              "      <td>USD</td>\n",
              "      <td>192.0</td>\n",
              "      <td>4.0</td>\n",
              "    </tr>\n",
              "    <tr>\n",
              "      <th>1</th>\n",
              "      <td>1</td>\n",
              "      <td>2020_09_25</td>\n",
              "      <td>-34.586830</td>\n",
              "      <td>-58.439266</td>\n",
              "      <td>https://departamento.mercadolibre.com.ar/MLA-8...</td>\n",
              "      <td>Loft  Duplex  Palermo Hollywood Amoblado Alqui...</td>\n",
              "      <td>Departamento</td>\n",
              "      <td>79000.0</td>\n",
              "      <td>ARS</td>\n",
              "      <td>70.0</td>\n",
              "      <td>2.0</td>\n",
              "    </tr>\n",
              "    <tr>\n",
              "      <th>2</th>\n",
              "      <td>2</td>\n",
              "      <td>2020_09_25</td>\n",
              "      <td>-34.601160</td>\n",
              "      <td>-58.376804</td>\n",
              "      <td>https://departamento.mercadolibre.com.ar/MLA-8...</td>\n",
              "      <td>Dueño Alquila  1 Amb.  Amoblado - Caba - Zona:...</td>\n",
              "      <td>Departamento</td>\n",
              "      <td>23500.0</td>\n",
              "      <td>ARS</td>\n",
              "      <td>30.0</td>\n",
              "      <td>1.0</td>\n",
              "    </tr>\n",
              "    <tr>\n",
              "      <th>3</th>\n",
              "      <td>3</td>\n",
              "      <td>2020_09_25</td>\n",
              "      <td>-34.548042</td>\n",
              "      <td>-58.466156</td>\n",
              "      <td>https://departamento.mercadolibre.com.ar/MLA-8...</td>\n",
              "      <td>Departamento Equipado Y Amueblado Muy Buen Estado</td>\n",
              "      <td>Departamento</td>\n",
              "      <td>80000.0</td>\n",
              "      <td>ARS</td>\n",
              "      <td>130.0</td>\n",
              "      <td>5.0</td>\n",
              "    </tr>\n",
              "    <tr>\n",
              "      <th>4</th>\n",
              "      <td>4</td>\n",
              "      <td>2020_09_25</td>\n",
              "      <td>-34.612488</td>\n",
              "      <td>-58.426605</td>\n",
              "      <td>https://departamento.mercadolibre.com.ar/MLA-8...</td>\n",
              "      <td>Alquiler Temporario , Zona Hospital Italiano</td>\n",
              "      <td>Departamento</td>\n",
              "      <td>2000.0</td>\n",
              "      <td>ARS</td>\n",
              "      <td>60.0</td>\n",
              "      <td>2.0</td>\n",
              "    </tr>\n",
              "  </tbody>\n",
              "</table>\n",
              "</div>"
            ],
            "text/plain": [
              "   Unnamed: 0       fecha    latitud  ...  moneda     m2 ambientes\n",
              "0           0  2020_09_25 -34.611270  ...     USD  192.0       4.0\n",
              "1           1  2020_09_25 -34.586830  ...     ARS   70.0       2.0\n",
              "2           2  2020_09_25 -34.601160  ...     ARS   30.0       1.0\n",
              "3           3  2020_09_25 -34.548042  ...     ARS  130.0       5.0\n",
              "4           4  2020_09_25 -34.612488  ...     ARS   60.0       2.0\n",
              "\n",
              "[5 rows x 11 columns]"
            ]
          },
          "metadata": {
            "tags": []
          },
          "execution_count": 6
        }
      ]
    },
    {
      "cell_type": "markdown",
      "metadata": {
        "id": "QHxeCemv8w3s",
        "colab_type": "text"
      },
      "source": [
        "## Nos quedamos solamente con aquellas filas que el precio haya sido informado en pesos Argentinos"
      ]
    },
    {
      "cell_type": "code",
      "metadata": {
        "id": "9PmFL_yZ8qeW",
        "colab_type": "code",
        "colab": {
          "base_uri": "https://localhost:8080/",
          "height": 267
        },
        "outputId": "38903689-c367-42ba-ccc9-00bb31f6dce8"
      },
      "source": [
        "# Filtramos el dataframe\n",
        "df_ars = df_clean[df_clean['moneda'] == 'ARS']\n",
        "# Renderizamos el gráfico\n",
        "title = 'Metros cuatrados'\n",
        "if PNG_RENDER:\n",
        "    filename = title + '.png'\n",
        "    gibioplot.boxplot(title=title, dataset=df_ars['m2'], render='png')\n",
        "else:\n",
        "    gibioplot.boxplot(title=title, dataset=df_ars['m2'])"
      ],
      "execution_count": 7,
      "outputs": [
        {
          "output_type": "display_data",
          "data": {
            "image/png": "[encoded data removed]",
            "text/plain": [
              "<IPython.core.display.Image object>"
            ]
          },
          "metadata": {
            "tags": []
          }
        }
      ]
    },
    {
      "cell_type": "code",
      "metadata": {
        "id": "iaToyIdHFM50",
        "colab_type": "code",
        "colab": {
          "base_uri": "https://localhost:8080/",
          "height": 34
        },
        "outputId": "2112ff0a-76c7-4dea-f1f7-3594bbb3eba1"
      },
      "source": [
        "print('Cantidad de departamentos en observacion:', df_ars.shape[0])"
      ],
      "execution_count": 8,
      "outputs": [
        {
          "output_type": "stream",
          "text": [
            "Cantidad de departamentos en observacion: 423\n"
          ],
          "name": "stdout"
        }
      ]
    },
    {
      "cell_type": "markdown",
      "metadata": {
        "id": "Yg7pg8hg9vHQ",
        "colab_type": "text"
      },
      "source": [
        "## Eliminar los elementos que se van fuera del rango de análisis"
      ]
    },
    {
      "cell_type": "code",
      "metadata": {
        "id": "y8FZfqcJ9unq",
        "colab_type": "code",
        "colab": {
          "base_uri": "https://localhost:8080/",
          "height": 267
        },
        "outputId": "8dc7cc5e-3734-4d00-e560-141955ccf8c8"
      },
      "source": [
        "# Nos quedamos solamente con los deparamentos menor a 200m2\n",
        "propiedades = df_ars[df_ars['m2'] < 200]\n",
        "# Renderizamos el gráfico\n",
        "title = 'Metros cuatrados'\n",
        "if PNG_RENDER:\n",
        "    filename = title + '.png'\n",
        "    gibioplot.boxplot(title=title, dataset=propiedades['m2'], render='png')\n",
        "else:\n",
        "    gibioplot.boxplot(title=title, dataset=propiedades['m2'])"
      ],
      "execution_count": 9,
      "outputs": [
        {
          "output_type": "display_data",
          "data": {
            "image/png": "[encoded data removed]",
            "text/plain": [
              "<IPython.core.display.Image object>"
            ]
          },
          "metadata": {
            "tags": []
          }
        }
      ]
    },
    {
      "cell_type": "code",
      "metadata": {
        "id": "QwaUndxEFbYz",
        "colab_type": "code",
        "colab": {
          "base_uri": "https://localhost:8080/",
          "height": 34
        },
        "outputId": "65c10d08-5c33-48ce-dc60-c0480e90b64f"
      },
      "source": [
        "print('Cantidad de departamentos en observacion:', propiedades.shape[0])"
      ],
      "execution_count": 10,
      "outputs": [
        {
          "output_type": "stream",
          "text": [
            "Cantidad de departamentos en observacion: 412\n"
          ],
          "name": "stdout"
        }
      ]
    },
    {
      "cell_type": "markdown",
      "metadata": {
        "id": "Iy23UDRj3Glb",
        "colab_type": "text"
      },
      "source": [
        "# Entrenar modelo"
      ]
    },
    {
      "cell_type": "markdown",
      "metadata": {
        "colab_type": "text",
        "id": "d9Mxk0lreFx1"
      },
      "source": [
        "<div align=\"center\"><img src=\"https://lh3.googleusercontent.com/pw/ACtC-3csSQnxbKYYltM7w3bryOXpVvhrxI8PZ-xHKtEleb8SiwPjx_vNiCIfYQUVVUtCUz5zyhyCGqCjj9mWlHcXqmSZpHL5lrQrCcnbg0tRQiWYmATPeAzVKVrQGCA22rH7R9QrQsOFjeXmw3z4a17k_GTn=w1366-h133-no?authuser=0\" width=\"1000\" align=\"middle\"></div>"
      ]
    },
    {
      "cell_type": "code",
      "metadata": {
        "id": "eqG4MbJA3FuN",
        "colab_type": "code",
        "colab": {}
      },
      "source": [
        "# Calcular y visualizar le prediccion de costos por m2\n",
        "regr = linear_model.LinearRegression()\n",
        "#x = np.asanyarray(propiedades[['ambientes','m2']])\n",
        "x = np.asanyarray(propiedades[['m2']])\n",
        "y = np.asanyarray(propiedades['precio'])\n",
        "regr.fit(x, y)\n",
        "#y_hat= regr.predict(propiedades[['ambientes','m2']])\n",
        "y_hat= regr.predict(propiedades[['m2']])"
      ],
      "execution_count": 11,
      "outputs": []
    },
    {
      "cell_type": "markdown",
      "metadata": {
        "id": "PKjLFcNu4w3e",
        "colab_type": "text"
      },
      "source": [
        "# Validar modelo"
      ]
    },
    {
      "cell_type": "markdown",
      "metadata": {
        "colab_type": "text",
        "id": "UgqhThp4eF6E"
      },
      "source": [
        "<div align=\"center\"><img src=\"https://lh3.googleusercontent.com/pw/ACtC-3cak4pQwIT8LrDUfrv0XXdf9MfEDbCytI3Yttzzd8BG0AyqJ74FpFe5kVMZ0UoKguSjr3-_qKe1Qg2eWEk5YalKmtcwGFV5OS2CmmoVsEPIRpUZeg4SzIDrcQDRTGNP-9RPT4q1VVXrHtCdCZDYrfgW=w1366-h133-no?authuser=0\" width=\"1000\" align=\"middle\"></div>"
      ]
    },
    {
      "cell_type": "code",
      "metadata": {
        "id": "qD3dDNhQ4vgT",
        "colab_type": "code",
        "colab": {
          "base_uri": "https://localhost:8080/",
          "height": 84
        },
        "outputId": "7c82cc0d-df7f-4b13-a642-7729ad40593e"
      },
      "source": [
        "title = 'Error medio'\n",
        "error_medio = np.mean(np.absolute((y_hat - y)/y))\n",
        "print(title+\": %.2f\" % error_medio)\n",
        "value = error_medio\n",
        "reference = 10\n",
        "if PNG_RENDER:\n",
        "    filename = title + '.png'\n",
        "    gibioplot.plot_meter(title=title, value=value, render='png', filename=filename)\n",
        "else:\n",
        "    gibioplot.plot_meter(title=title, value=value, reference=reference)"
      ],
      "execution_count": 12,
      "outputs": [
        {
          "output_type": "stream",
          "text": [
            "Error medio: 5.90\n"
          ],
          "name": "stdout"
        },
        {
          "output_type": "display_data",
          "data": {
            "image/png": "[encoded data removed]",
            "text/plain": [
              "<IPython.core.display.Image object>"
            ]
          },
          "metadata": {
            "tags": []
          }
        }
      ]
    },
    {
      "cell_type": "markdown",
      "metadata": {
        "id": "dNtEyXQb3Qqs",
        "colab_type": "text"
      },
      "source": [
        "# Utilizar modelo"
      ]
    },
    {
      "cell_type": "markdown",
      "metadata": {
        "colab_type": "text",
        "id": "xNHrnJFueGBB"
      },
      "source": [
        "<div align=\"center\"><img src=\"https://lh3.googleusercontent.com/pw/ACtC-3cCImYtu1CcKuITmTpV7hyJmrEt_8ADIqZiqlksAyNwCvcwR8sDZLQl54gmo4sobCgb3vpuzjWAFDkBh6cT33oBYTMJMyltD25Q8einZ37Gx_9gsCLI50iBX1wo3fz5c0BaedWiyJs3MdHotbxnkSjg=w1366-h133-no?authuser=0\" width=\"1000\" align=\"middle\"\n",
        "></div>"
      ]
    },
    {
      "cell_type": "code",
      "metadata": {
        "id": "XJBe3eY5zZA3",
        "colab_type": "code",
        "colab": {
          "base_uri": "https://localhost:8080/",
          "height": 580
        },
        "outputId": "4e68cb74-daea-411f-8b75-59ac1d515370"
      },
      "source": [
        "gibioplot.plot_dot_line(propiedades['m2'],propiedades['precio'],y_hat)"
      ],
      "execution_count": 13,
      "outputs": [
        {
          "output_type": "display_data",
          "data": {
            "image/png": "[encoded data removed]",
            "text/plain": [
              "<Figure size 1152x648 with 1 Axes>"
            ]
          },
          "metadata": {
            "tags": [],
            "needs_background": "dark"
          }
        }
      ]
    },
    {
      "cell_type": "markdown",
      "metadata": {
        "colab_type": "text",
        "id": "8OZye4mKp8th"
      },
      "source": [
        "<div align=\"center\"><img src=\"https://lh3.googleusercontent.com/pw/ACtC-3c0b9wdQXhFVvYu-h9-AsPEg621I8En-CINRW5eJhYJweohC0gQ-8j-ZftxoZ6TXZWQbFRoLxNCH_xLHjnEEUMMKg9k72CQU8Zyd2if6CFBPWV_8umCQXI543v6o1cOhk5001p-pKe8wIOb2eSa2KN7=w1366-h133-no?authuser=0\" width=\"1000\" align=\"middle\"></div>"
      ]
    }
  ]
}