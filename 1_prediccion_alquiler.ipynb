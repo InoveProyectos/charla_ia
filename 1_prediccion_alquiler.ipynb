{
  "nbformat": 4,
  "nbformat_minor": 0,
  "metadata": {
    "colab": {
      "name": "1- prediccion_alquiler.ipynb",
      "provenance": [],
      "collapsed_sections": [],
      "toc_visible": true
    },
    "kernelspec": {
      "name": "python3",
      "display_name": "Python 3"
    }
  },
  "cells": [
    {
      "cell_type": "markdown",
      "metadata": {
        "id": "sBRDyHtd0HFb"
      },
      "source": [
        "<a href=\"https://www.inove.com.ar\"><img src=\"https://lh3.googleusercontent.com/pw/ACtC-3ekLfw0AsoodcZkIONBznVKnsM7SsYW-qx66kYaiTAsZ5TZ0_lNLxuRqJWiuuL6j0UwjKa_ArO89y74bcX0GARWYhJMA04Soox_OYmNOohb9_NE2zwAYK7KMOtAj8tDowysed7ergBwBThxGU2epAm8=w1366-h239-no?authuser=0\" width=\"1000\" align=\"center\"></a>\n",
        "<h1>⏵Predicción de los precios de alquiler⏴</h1>\n",
        "<h4>Sobre este ejemplo</h4>\n",
        "Esta es una muestra de como aplicamos Machine Learning para determinar cual es el valor de las propiedades en una zona determinada."
      ]
    },
    {
      "cell_type": "code",
      "metadata": {
        "id": "nZyhJBvQyqUU",
        "outputId": "4dc1bf0c-3d5b-4a4c-fea5-ff1620a9ca58",
        "colab": {
          "base_uri": "https://localhost:8080/",
          "height": 339
        }
      },
      "source": [
        "# Instalamos dependencias\n",
        "!pip install -U kaleido\n",
        "!!wget -O gibioplot.py https://raw.githubusercontent.com/HectorInove/gibioplot/master/gibioplot.py"
      ],
      "execution_count": 1,
      "outputs": [
        {
          "output_type": "stream",
          "text": [
            "Collecting kaleido\n",
            "\u001b[?25l  Downloading https://files.pythonhosted.org/packages/7c/26/cc562909fe6838ee3a98c0b2f83e79cbe2dbea8cddb7f3445fd347253d8e/kaleido-0.0.3.post1-py2.py3-none-manylinux1_x86_64.whl (74.0MB)\n",
            "\u001b[K     |████████████████████████████████| 74.0MB 55kB/s \n",
            "\u001b[?25hInstalling collected packages: kaleido\n",
            "Successfully installed kaleido-0.0.3.post1\n"
          ],
          "name": "stdout"
        },
        {
          "output_type": "execute_result",
          "data": {
            "text/plain": [
              "['--2020-09-29 20:18:12--  https://raw.githubusercontent.com/HectorInove/gibioplot/master/gibioplot.py',\n",
              " 'Resolving raw.githubusercontent.com (raw.githubusercontent.com)... 151.101.0.133, 151.101.64.133, 151.101.128.133, ...',\n",
              " 'Connecting to raw.githubusercontent.com (raw.githubusercontent.com)|151.101.0.133|:443... connected.',\n",
              " 'HTTP request sent, awaiting response... 200 OK',\n",
              " 'Length: 5645 (5.5K) [text/plain]',\n",
              " 'Saving to: ‘gibioplot.py’',\n",
              " '',\n",
              " '',\n",
              " 'gibioplot.py          0%[                    ]       0  --.-KB/s               ',\n",
              " 'gibioplot.py        100%[===================>]   5.51K  --.-KB/s    in 0s      ',\n",
              " '',\n",
              " '2020-09-29 20:18:12 (54.5 MB/s) - ‘gibioplot.py’ saved [5645/5645]',\n",
              " '']"
            ]
          },
          "metadata": {
            "tags": []
          },
          "execution_count": 1
        }
      ]
    },
    {
      "cell_type": "code",
      "metadata": {
        "id": "_bfqiMR02qeg"
      },
      "source": [
        "# Importamos librerías\n",
        "import numpy as np\n",
        "import matplotlib as mpl\n",
        "import matplotlib.pyplot as plt\n",
        "import pandas as pd\n",
        "import seaborn as sns\n",
        "import gibioplot\n",
        "from sklearn import linear_model\n",
        "%matplotlib inline\n",
        "\n",
        "# Flag para renderizado de imágenes,\n",
        "# True para renderizar como imagenes.png\n",
        "# False para imagen interactiva\n",
        "\n",
        "PNG_RENDER = True"
      ],
      "execution_count": 2,
      "outputs": []
    },
    {
      "cell_type": "markdown",
      "metadata": {
        "id": "IaFL8vvRt4E2"
      },
      "source": [
        "# Recolectar datos\n",
        "<div align=\"center\"><img src=\"https://lh3.googleusercontent.com/pw/ACtC-3dp4dMGFr2D00UyD0240fBNyrzptD5onOf1wkHioTvEo-RpDmNEP61ssGPS4IiSKtDEwUHaU8krqeFZi3mjkiQDE72dtJy9zxptu48TYzfnbQp-O1WFZ0LFaXDG-jIz01IQyw2fZJzEFhnk_zK-glgP=w1366-h133-no?authuser=0\" width=\"1000\" align=\"middle\"></div>\n",
        "Descargamos el dataset de alquiler de departamentos"
      ]
    },
    {
      "cell_type": "code",
      "metadata": {
        "id": "_C6WfGlt06Jp",
        "outputId": "3bb12e32-b806-4446-96a2-ab7388e2f9c3",
        "colab": {
          "base_uri": "https://localhost:8080/",
          "height": 202
        }
      },
      "source": [
        "#!wget -O propiedades.csv http://inove.pythonanywhere.com/alquileres/buscar?ubicacion=Mendoza\n",
        "!wget -O propiedades.csv http://inove.pythonanywhere.com/alquileres/buscar?ubicacion=Capital%20Federal"
      ],
      "execution_count": 4,
      "outputs": [
        {
          "output_type": "stream",
          "text": [
            "--2020-09-29 20:19:47--  http://inove.pythonanywhere.com/alquileres/buscar?ubicacion=Capital%20Federal\n",
            "Resolving inove.pythonanywhere.com (inove.pythonanywhere.com)... 35.173.69.207\n",
            "Connecting to inove.pythonanywhere.com (inove.pythonanywhere.com)|35.173.69.207|:80... connected.\n",
            "HTTP request sent, awaiting response... 200 OK\n",
            "Length: 111273 (109K) [text/csv]\n",
            "Saving to: ‘propiedades.csv’\n",
            "\n",
            "propiedades.csv     100%[===================>] 108.67K  --.-KB/s    in 0.04s   \n",
            "\n",
            "2020-09-29 20:20:02 (2.71 MB/s) - ‘propiedades.csv’ saved [111273/111273]\n",
            "\n"
          ],
          "name": "stdout"
        }
      ]
    },
    {
      "cell_type": "markdown",
      "metadata": {
        "id": "kClARSPht0yw"
      },
      "source": [
        "# Procesar datos\n",
        "<div align=\"center\"><img src=\"https://lh3.googleusercontent.com/pw/ACtC-3ecH_bbd3CY23v8dqfIsuoE1FT7dDeRqxlG4Ti4RzKkOqAHMTD8ukvX7wx_G2PkKFQjNeoGGtL3xoqhCqfKCSdk1lE_2FuTiQaV2jDy3_fZeVbBxgEhtVwGnoLhBfQyb36KZxHPn0puUpJV825MBkQJ=w1366-h133-no?authuser=0\" width=\"1000\" align=\"middle\"></div>"
      ]
    },
    {
      "cell_type": "code",
      "metadata": {
        "id": "xEjAFQMv2Jve",
        "outputId": "fc161587-add5-41e2-b769-acd3659639b0",
        "colab": {
          "base_uri": "https://localhost:8080/",
          "height": 343
        }
      },
      "source": [
        "df = pd.read_csv(\"propiedades.csv\")\n",
        "des = df.describe()\n",
        "des.loc['Nan'] = df.isnull().sum()\n",
        "des.loc['%Nan'] = (df.isnull().mean())*100\n",
        "des"
      ],
      "execution_count": 5,
      "outputs": [
        {
          "output_type": "execute_result",
          "data": {
            "text/html": [
              "<div>\n",
              "<style scoped>\n",
              "    .dataframe tbody tr th:only-of-type {\n",
              "        vertical-align: middle;\n",
              "    }\n",
              "\n",
              "    .dataframe tbody tr th {\n",
              "        vertical-align: top;\n",
              "    }\n",
              "\n",
              "    .dataframe thead th {\n",
              "        text-align: right;\n",
              "    }\n",
              "</style>\n",
              "<table border=\"1\" class=\"dataframe\">\n",
              "  <thead>\n",
              "    <tr style=\"text-align: right;\">\n",
              "      <th></th>\n",
              "      <th>Unnamed: 0</th>\n",
              "      <th>latitud</th>\n",
              "      <th>longitud</th>\n",
              "      <th>precio</th>\n",
              "      <th>m2</th>\n",
              "      <th>ambientes</th>\n",
              "    </tr>\n",
              "  </thead>\n",
              "  <tbody>\n",
              "    <tr>\n",
              "      <th>count</th>\n",
              "      <td>499.000000</td>\n",
              "      <td>499.000000</td>\n",
              "      <td>499.000000</td>\n",
              "      <td>499.000000</td>\n",
              "      <td>497.000000</td>\n",
              "      <td>494.000000</td>\n",
              "    </tr>\n",
              "    <tr>\n",
              "      <th>mean</th>\n",
              "      <td>249.000000</td>\n",
              "      <td>-34.436027</td>\n",
              "      <td>-58.350326</td>\n",
              "      <td>35775.911824</td>\n",
              "      <td>67.213340</td>\n",
              "      <td>2.141700</td>\n",
              "    </tr>\n",
              "    <tr>\n",
              "      <th>std</th>\n",
              "      <td>144.193157</td>\n",
              "      <td>3.689845</td>\n",
              "      <td>3.514744</td>\n",
              "      <td>48731.456346</td>\n",
              "      <td>67.375001</td>\n",
              "      <td>1.528685</td>\n",
              "    </tr>\n",
              "    <tr>\n",
              "      <th>min</th>\n",
              "      <td>0.000000</td>\n",
              "      <td>-38.001750</td>\n",
              "      <td>-120.740135</td>\n",
              "      <td>27.000000</td>\n",
              "      <td>0.000000</td>\n",
              "      <td>0.000000</td>\n",
              "    </tr>\n",
              "    <tr>\n",
              "      <th>25%</th>\n",
              "      <td>124.500000</td>\n",
              "      <td>-34.606010</td>\n",
              "      <td>-58.439005</td>\n",
              "      <td>3295.000000</td>\n",
              "      <td>35.000000</td>\n",
              "      <td>1.000000</td>\n",
              "    </tr>\n",
              "    <tr>\n",
              "      <th>50%</th>\n",
              "      <td>249.000000</td>\n",
              "      <td>-34.594700</td>\n",
              "      <td>-58.416370</td>\n",
              "      <td>25000.000000</td>\n",
              "      <td>45.000000</td>\n",
              "      <td>2.000000</td>\n",
              "    </tr>\n",
              "    <tr>\n",
              "      <th>75%</th>\n",
              "      <td>373.500000</td>\n",
              "      <td>-34.580573</td>\n",
              "      <td>-58.391582</td>\n",
              "      <td>41500.000000</td>\n",
              "      <td>70.000000</td>\n",
              "      <td>3.000000</td>\n",
              "    </tr>\n",
              "    <tr>\n",
              "      <th>max</th>\n",
              "      <td>498.000000</td>\n",
              "      <td>47.751076</td>\n",
              "      <td>-34.588875</td>\n",
              "      <td>450000.000000</td>\n",
              "      <td>700.000000</td>\n",
              "      <td>18.000000</td>\n",
              "    </tr>\n",
              "    <tr>\n",
              "      <th>Nan</th>\n",
              "      <td>0.000000</td>\n",
              "      <td>0.000000</td>\n",
              "      <td>0.000000</td>\n",
              "      <td>0.000000</td>\n",
              "      <td>2.000000</td>\n",
              "      <td>5.000000</td>\n",
              "    </tr>\n",
              "    <tr>\n",
              "      <th>%Nan</th>\n",
              "      <td>0.000000</td>\n",
              "      <td>0.000000</td>\n",
              "      <td>0.000000</td>\n",
              "      <td>0.000000</td>\n",
              "      <td>0.400802</td>\n",
              "      <td>1.002004</td>\n",
              "    </tr>\n",
              "  </tbody>\n",
              "</table>\n",
              "</div>"
            ],
            "text/plain": [
              "       Unnamed: 0     latitud  ...          m2   ambientes\n",
              "count  499.000000  499.000000  ...  497.000000  494.000000\n",
              "mean   249.000000  -34.436027  ...   67.213340    2.141700\n",
              "std    144.193157    3.689845  ...   67.375001    1.528685\n",
              "min      0.000000  -38.001750  ...    0.000000    0.000000\n",
              "25%    124.500000  -34.606010  ...   35.000000    1.000000\n",
              "50%    249.000000  -34.594700  ...   45.000000    2.000000\n",
              "75%    373.500000  -34.580573  ...   70.000000    3.000000\n",
              "max    498.000000   47.751076  ...  700.000000   18.000000\n",
              "Nan      0.000000    0.000000  ...    2.000000    5.000000\n",
              "%Nan     0.000000    0.000000  ...    0.400802    1.002004\n",
              "\n",
              "[10 rows x 6 columns]"
            ]
          },
          "metadata": {
            "tags": []
          },
          "execution_count": 5
        }
      ]
    },
    {
      "cell_type": "code",
      "metadata": {
        "id": "eD6vlk0b1DTz"
      },
      "source": [
        "# Sacamos todas las filas de la tabla las cuales el campo \"m2\" o \"ambientes\" se encuentre vacio\n",
        "df_clean = df[df['m2'].notna()]\n",
        "df_clean = df_clean[df_clean['ambientes'].notna()]"
      ],
      "execution_count": 6,
      "outputs": []
    },
    {
      "cell_type": "markdown",
      "metadata": {
        "id": "BoxU1u4F2IBr"
      },
      "source": [
        "# Explorar datos\n",
        "<div align=\"center\"><img src=\"https://lh3.googleusercontent.com/pw/ACtC-3ePJ3-PFgVLwddhdqRi7z7VRo8j3r6LBSRPzWNek5805rJeEdWJKIbAKGj133aGArHgu1oe8-IDj9ET8FtAW0R5GrUOcPzgG0nnUFhfIRyug0VQ_2DwNB_zmMuReBy60ExzOQprBc8us4HlthdvRtx6=w1366-h133-no?authuser=0\" width=\"1000\" align=\"middle\"></div>"
      ]
    },
    {
      "cell_type": "code",
      "metadata": {
        "id": "4lShOcNu6ZP4",
        "outputId": "a50569e2-379b-4ce7-8a44-ee10717a23b4",
        "colab": {
          "base_uri": "https://localhost:8080/",
          "height": 313
        }
      },
      "source": [
        "print('Cantidad de departamentos en observacion:', df_clean.shape[0])\n",
        "df_clean.head()"
      ],
      "execution_count": 7,
      "outputs": [
        {
          "output_type": "stream",
          "text": [
            "Cantidad de departamentos en observacion: 494\n"
          ],
          "name": "stdout"
        },
        {
          "output_type": "execute_result",
          "data": {
            "text/html": [
              "<div>\n",
              "<style scoped>\n",
              "    .dataframe tbody tr th:only-of-type {\n",
              "        vertical-align: middle;\n",
              "    }\n",
              "\n",
              "    .dataframe tbody tr th {\n",
              "        vertical-align: top;\n",
              "    }\n",
              "\n",
              "    .dataframe thead th {\n",
              "        text-align: right;\n",
              "    }\n",
              "</style>\n",
              "<table border=\"1\" class=\"dataframe\">\n",
              "  <thead>\n",
              "    <tr style=\"text-align: right;\">\n",
              "      <th></th>\n",
              "      <th>Unnamed: 0</th>\n",
              "      <th>fecha</th>\n",
              "      <th>latitud</th>\n",
              "      <th>longitud</th>\n",
              "      <th>url</th>\n",
              "      <th>titulo</th>\n",
              "      <th>tipo_propiedad</th>\n",
              "      <th>precio</th>\n",
              "      <th>moneda</th>\n",
              "      <th>m2</th>\n",
              "      <th>ambientes</th>\n",
              "    </tr>\n",
              "  </thead>\n",
              "  <tbody>\n",
              "    <tr>\n",
              "      <th>0</th>\n",
              "      <td>0</td>\n",
              "      <td>2020_09_29</td>\n",
              "      <td>-34.611270</td>\n",
              "      <td>-58.363780</td>\n",
              "      <td>https://departamento.mercadolibre.com.ar/MLA-7...</td>\n",
              "      <td>Departamento-alquiler - Puerto Madero-situar</td>\n",
              "      <td>Departamento</td>\n",
              "      <td>2900.0</td>\n",
              "      <td>USD</td>\n",
              "      <td>192.0</td>\n",
              "      <td>4.0</td>\n",
              "    </tr>\n",
              "    <tr>\n",
              "      <th>1</th>\n",
              "      <td>1</td>\n",
              "      <td>2020_09_29</td>\n",
              "      <td>-34.586830</td>\n",
              "      <td>-58.439266</td>\n",
              "      <td>https://departamento.mercadolibre.com.ar/MLA-8...</td>\n",
              "      <td>Loft  Duplex  Palermo Hollywood Amoblado Alqui...</td>\n",
              "      <td>Departamento</td>\n",
              "      <td>79000.0</td>\n",
              "      <td>ARS</td>\n",
              "      <td>70.0</td>\n",
              "      <td>2.0</td>\n",
              "    </tr>\n",
              "    <tr>\n",
              "      <th>2</th>\n",
              "      <td>2</td>\n",
              "      <td>2020_09_29</td>\n",
              "      <td>-34.601160</td>\n",
              "      <td>-58.376804</td>\n",
              "      <td>https://departamento.mercadolibre.com.ar/MLA-8...</td>\n",
              "      <td>Dueño Alquila  1 Amb.  Amoblado - Caba - Zona:...</td>\n",
              "      <td>Departamento</td>\n",
              "      <td>23500.0</td>\n",
              "      <td>ARS</td>\n",
              "      <td>30.0</td>\n",
              "      <td>1.0</td>\n",
              "    </tr>\n",
              "    <tr>\n",
              "      <th>3</th>\n",
              "      <td>3</td>\n",
              "      <td>2020_09_29</td>\n",
              "      <td>-34.548042</td>\n",
              "      <td>-58.466156</td>\n",
              "      <td>https://departamento.mercadolibre.com.ar/MLA-8...</td>\n",
              "      <td>Departamento Equipado Y Amueblado Muy Buen Estado</td>\n",
              "      <td>Departamento</td>\n",
              "      <td>80000.0</td>\n",
              "      <td>ARS</td>\n",
              "      <td>130.0</td>\n",
              "      <td>5.0</td>\n",
              "    </tr>\n",
              "    <tr>\n",
              "      <th>4</th>\n",
              "      <td>4</td>\n",
              "      <td>2020_09_29</td>\n",
              "      <td>-34.612488</td>\n",
              "      <td>-58.426605</td>\n",
              "      <td>https://departamento.mercadolibre.com.ar/MLA-8...</td>\n",
              "      <td>Alquiler Temporario , Zona Hospital Italiano</td>\n",
              "      <td>Departamento</td>\n",
              "      <td>2000.0</td>\n",
              "      <td>ARS</td>\n",
              "      <td>60.0</td>\n",
              "      <td>2.0</td>\n",
              "    </tr>\n",
              "  </tbody>\n",
              "</table>\n",
              "</div>"
            ],
            "text/plain": [
              "   Unnamed: 0       fecha    latitud  ...  moneda     m2 ambientes\n",
              "0           0  2020_09_29 -34.611270  ...     USD  192.0       4.0\n",
              "1           1  2020_09_29 -34.586830  ...     ARS   70.0       2.0\n",
              "2           2  2020_09_29 -34.601160  ...     ARS   30.0       1.0\n",
              "3           3  2020_09_29 -34.548042  ...     ARS  130.0       5.0\n",
              "4           4  2020_09_29 -34.612488  ...     ARS   60.0       2.0\n",
              "\n",
              "[5 rows x 11 columns]"
            ]
          },
          "metadata": {
            "tags": []
          },
          "execution_count": 7
        }
      ]
    },
    {
      "cell_type": "markdown",
      "metadata": {
        "id": "QHxeCemv8w3s"
      },
      "source": [
        "## Nos quedamos solamente con aquellas filas que el precio haya sido informado en pesos Argentinos"
      ]
    },
    {
      "cell_type": "code",
      "metadata": {
        "id": "9PmFL_yZ8qeW",
        "outputId": "83bf1b9a-2008-4167-b668-bb0f09149678",
        "colab": {
          "base_uri": "https://localhost:8080/",
          "height": 267
        }
      },
      "source": [
        "# Filtramos el dataframe\n",
        "df_ars = df_clean[df_clean['moneda'] == 'ARS']\n",
        "# Renderizamos el gráfico\n",
        "title = 'Metros cuatrados'\n",
        "if PNG_RENDER:\n",
        "    filename = title + '.png'\n",
        "    gibioplot.boxplot(title=title, dataset=df_ars['m2'], render='png')\n",
        "else:\n",
        "    gibioplot.boxplot(title=title, dataset=df_ars['m2'])"
      ],
      "execution_count": 8,
      "outputs": [
        {
          "output_type": "display_data",
          "data": {
            "image/png": "[encoded data removed]",
            "text/plain": [
              "<IPython.core.display.Image object>"
            ]
          },
          "metadata": {
            "tags": []
          }
        }
      ]
    },
    {
      "cell_type": "code",
      "metadata": {
        "id": "iaToyIdHFM50",
        "outputId": "f7557ae2-0845-4184-ca2a-8d8821cfc08a",
        "colab": {
          "base_uri": "https://localhost:8080/",
          "height": 34
        }
      },
      "source": [
        "print('Cantidad de departamentos en observacion:', df_ars.shape[0])"
      ],
      "execution_count": 9,
      "outputs": [
        {
          "output_type": "stream",
          "text": [
            "Cantidad de departamentos en observacion: 421\n"
          ],
          "name": "stdout"
        }
      ]
    },
    {
      "cell_type": "markdown",
      "metadata": {
        "id": "Yg7pg8hg9vHQ"
      },
      "source": [
        "## Eliminar los elementos que se van fuera del rango de análisis"
      ]
    },
    {
      "cell_type": "code",
      "metadata": {
        "id": "y8FZfqcJ9unq",
        "outputId": "04ae673f-b780-49af-9ef8-49c63d4938dc",
        "colab": {
          "base_uri": "https://localhost:8080/",
          "height": 267
        }
      },
      "source": [
        "# Nos quedamos solamente con los deparamentos menor a 200m2\n",
        "propiedades = df_ars[df_ars['m2'] < 200]\n",
        "# Renderizamos el gráfico\n",
        "title = 'Metros cuatrados'\n",
        "if PNG_RENDER:\n",
        "    filename = title + '.png'\n",
        "    gibioplot.boxplot(title=title, dataset=propiedades['m2'], render='png')\n",
        "else:\n",
        "    gibioplot.boxplot(title=title, dataset=propiedades['m2'])"
      ],
      "execution_count": 10,
      "outputs": [
        {
          "output_type": "display_data",
          "data": {
            "image/png": "[encoded data removed]",
            "text/plain": [
              "<IPython.core.display.Image object>"
            ]
          },
          "metadata": {
            "tags": []
          }
        }
      ]
    },
    {
      "cell_type": "code",
      "metadata": {
        "id": "QwaUndxEFbYz",
        "outputId": "f9446038-95e2-43c8-d51f-d2956d3d9f76",
        "colab": {
          "base_uri": "https://localhost:8080/",
          "height": 34
        }
      },
      "source": [
        "print('Cantidad de departamentos en observacion:', propiedades.shape[0])"
      ],
      "execution_count": 11,
      "outputs": [
        {
          "output_type": "stream",
          "text": [
            "Cantidad de departamentos en observacion: 411\n"
          ],
          "name": "stdout"
        }
      ]
    },
    {
      "cell_type": "markdown",
      "metadata": {
        "id": "Iy23UDRj3Glb"
      },
      "source": [
        "# Entrenar modelo\n",
        "<div align=\"center\"><img src=\"https://lh3.googleusercontent.com/pw/ACtC-3csSQnxbKYYltM7w3bryOXpVvhrxI8PZ-xHKtEleb8SiwPjx_vNiCIfYQUVVUtCUz5zyhyCGqCjj9mWlHcXqmSZpHL5lrQrCcnbg0tRQiWYmATPeAzVKVrQGCA22rH7R9QrQsOFjeXmw3z4a17k_GTn=w1366-h133-no?authuser=0\" width=\"1000\" align=\"middle\"></div>"
      ]
    },
    {
      "cell_type": "code",
      "metadata": {
        "id": "eqG4MbJA3FuN"
      },
      "source": [
        "# Calcular y visualizar le prediccion de costos por m2\n",
        "regr = linear_model.LinearRegression()\n",
        "#x = np.asanyarray(propiedades[['ambientes','m2']])\n",
        "x = np.asanyarray(propiedades[['m2']])\n",
        "y = np.asanyarray(propiedades['precio'])\n",
        "regr.fit(x, y)\n",
        "#y_hat= regr.predict(propiedades[['ambientes','m2']])\n",
        "y_hat= regr.predict(propiedades[['m2']])"
      ],
      "execution_count": 12,
      "outputs": []
    },
    {
      "cell_type": "markdown",
      "metadata": {
        "id": "PKjLFcNu4w3e"
      },
      "source": [
        "# Validar modelo\n",
        "<div align=\"center\"><img src=\"https://lh3.googleusercontent.com/pw/ACtC-3cak4pQwIT8LrDUfrv0XXdf9MfEDbCytI3Yttzzd8BG0AyqJ74FpFe5kVMZ0UoKguSjr3-_qKe1Qg2eWEk5YalKmtcwGFV5OS2CmmoVsEPIRpUZeg4SzIDrcQDRTGNP-9RPT4q1VVXrHtCdCZDYrfgW=w1366-h133-no?authuser=0\" width=\"1000\" align=\"middle\"></div>"
      ]
    },
    {
      "cell_type": "code",
      "metadata": {
        "id": "qD3dDNhQ4vgT",
        "outputId": "17eeb9ec-5b9f-4547-aee6-ad673a373c8e",
        "colab": {
          "base_uri": "https://localhost:8080/",
          "height": 84
        }
      },
      "source": [
        "from sklearn.metrics import r2_score\n",
        "title = 'Correlación'\n",
        "# En este caso, ya que se trata de una regresión lineal puedo relacinonar el\n",
        "# índice R2 con el coeficiente de correlación lineal.\n",
        "value = np.sqrt(r2_score(y, y_hat))\n",
        "print(title+\": %.2f\" % value)\n",
        "value = error_medio\n",
        "reference = 10\n",
        "if PNG_RENDER:\n",
        "    filename = title + '.png'\n",
        "    gibioplot.plot_meter(title=title, value=value, render='png', filename=filename)\n",
        "else:\n",
        "    gibioplot.plot_meter(title=title, value=value, reference=reference)"
      ],
      "execution_count": 21,
      "outputs": [
        {
          "output_type": "stream",
          "text": [
            "Correlación: 0.60\n"
          ],
          "name": "stdout"
        },
        {
          "output_type": "display_data",
          "data": {
            "image/png": "[encoded data removed]",
            "text/plain": [
              "<IPython.core.display.Image object>"
            ]
          },
          "metadata": {
            "tags": []
          }
        }
      ]
    },
    {
      "cell_type": "markdown",
      "metadata": {
        "id": "dNtEyXQb3Qqs"
      },
      "source": [
        "# Utilizar modelo\n",
        "<div align=\"center\"><img src=\"https://lh3.googleusercontent.com/pw/ACtC-3cCImYtu1CcKuITmTpV7hyJmrEt_8ADIqZiqlksAyNwCvcwR8sDZLQl54gmo4sobCgb3vpuzjWAFDkBh6cT33oBYTMJMyltD25Q8einZ37Gx_9gsCLI50iBX1wo3fz5c0BaedWiyJs3MdHotbxnkSjg=w1366-h133-no?authuser=0\" width=\"1000\" align=\"middle\"\n",
        "></div>"
      ]
    },
    {
      "cell_type": "code",
      "metadata": {
        "id": "XJBe3eY5zZA3",
        "outputId": "f3fdfc9e-c938-4f99-a567-1c45d22f1b75",
        "colab": {
          "base_uri": "https://localhost:8080/",
          "height": 734
        }
      },
      "source": [
        "gibioplot.plot_dot_line(propiedades['m2'], propiedades['precio'], y_hat)"
      ],
      "execution_count": 14,
      "outputs": [
        {
          "output_type": "stream",
          "text": [
            "/usr/local/lib/python3.6/dist-packages/seaborn/_decorators.py:43: FutureWarning:\n",
            "\n",
            "Pass the following variables as keyword args: x, y. From version 0.12, the only valid positional argument will be `data`, and passing other arguments without an explicit keyword will result in an error or misinterpretation.\n",
            "\n",
            "/usr/local/lib/python3.6/dist-packages/seaborn/_decorators.py:43: FutureWarning:\n",
            "\n",
            "Pass the following variables as keyword args: x, y. From version 0.12, the only valid positional argument will be `data`, and passing other arguments without an explicit keyword will result in an error or misinterpretation.\n",
            "\n"
          ],
          "name": "stderr"
        },
        {
          "output_type": "display_data",
          "data": {
            "image/png": "[encoded data removed]",
            "text/plain": [
              "<Figure size 1152x648 with 1 Axes>"
            ]
          },
          "metadata": {
            "tags": [],
            "needs_background": "dark"
          }
        }
      ]
    },
    {
      "cell_type": "markdown",
      "metadata": {
        "id": "8OZye4mKp8th"
      },
      "source": [
        "<div align=\"center\"><img src=\"https://lh3.googleusercontent.com/pw/ACtC-3c0b9wdQXhFVvYu-h9-AsPEg621I8En-CINRW5eJhYJweohC0gQ-8j-ZftxoZ6TXZWQbFRoLxNCH_xLHjnEEUMMKg9k72CQU8Zyd2if6CFBPWV_8umCQXI543v6o1cOhk5001p-pKe8wIOb2eSa2KN7=w1366-h133-no?authuser=0\" width=\"1000\" align=\"middle\"></div>"
      ]
    }
  ]
}